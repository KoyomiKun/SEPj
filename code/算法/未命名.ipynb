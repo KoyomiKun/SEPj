{
 "cells": [
  {
   "cell_type": "markdown",
   "metadata": {},
   "source": [
    "# 迷宫\n",
    "题目描述 Description  \n",
    "在N*N的迷宫内，“#”为墙，“.”为路，“s”为起点，“e”为终点，一共4个方向可以走。从左上角（(0,0)“s”）位置处走到右下角（(n-1,n-1)“e”）位置处，可以走通则输出YES，不可以走则输出NO。\n",
    "\n",
    "输入描述 Input Description  \n",
    "输入的第一行为一个整数m，表示迷宫的数量。 \n",
    "其后每个迷宫数据的第一行为一个整数n（n≤16），表示迷宫的边长，接下来的n行每行n个字符，字符之间没有空格分隔。\n",
    "\n",
    "输出描述 Output Description  \n",
    "输出有m行，每行对应的迷宫能走，则输出YES，否则输出NO。\n",
    "\n",
    "样例输入 Sample Input  \n",
    "1_input"
   ]
  },
  {
   "cell_type": "code",
   "execution_count": 2,
   "metadata": {},
   "outputs": [],
   "source": [
    "start = []\n",
    "walls = []\n",
    "end = []\n",
    "with open('./input/1_input','r') as f:\n",
    "    strs = f.readlines()\n",
    "    for i,x in enumerate(strs):\n",
    "        for j,c in enumerate(x):\n",
    "            if c == 's':\n",
    "                start = [i,j]\n",
    "            if c == '#':\n",
    "                walls.append([i,j])\n",
    "            if c == 'e':\n",
    "                end = [i,j]"
   ]
  },
  {
   "cell_type": "code",
   "execution_count": 3,
   "metadata": {},
   "outputs": [
    {
     "data": {
      "text/plain": [
       "[0, 0]"
      ]
     },
     "execution_count": 3,
     "metadata": {},
     "output_type": "execute_result"
    }
   ],
   "source": [
    "start"
   ]
  },
  {
   "cell_type": "code",
   "execution_count": 4,
   "metadata": {},
   "outputs": [
    {
     "data": {
      "text/plain": [
       "[6, 6]"
      ]
     },
     "execution_count": 4,
     "metadata": {},
     "output_type": "execute_result"
    }
   ],
   "source": [
    "end"
   ]
  },
  {
   "cell_type": "code",
   "execution_count": 5,
   "metadata": {
    "scrolled": true
   },
   "outputs": [
    {
     "data": {
      "text/plain": [
       "[[0, 4],\n",
       " [0, 5],\n",
       " [1, 1],\n",
       " [3, 2],\n",
       " [4, 2],\n",
       " [4, 6],\n",
       " [5, 0],\n",
       " [5, 1],\n",
       " [5, 2],\n",
       " [5, 6]]"
      ]
     },
     "execution_count": 5,
     "metadata": {},
     "output_type": "execute_result"
    }
   ],
   "source": [
    "walls"
   ]
  },
  {
   "cell_type": "markdown",
   "metadata": {},
   "source": [
    "## DFS"
   ]
  },
  {
   "cell_type": "code",
   "execution_count": null,
   "metadata": {},
   "outputs": [],
   "source": [
    "steps = [(-1,0),(0,-1),(0,1),(1,0)]\n",
    "flags = [False]*49\n",
    "\n",
    "if start[0] == \n",
    "for step in steps:\n",
    "    if isValid((start[0] + step[0],start[1]+ step[1])):\n",
    "        start[0] =  start[0] + step[0]\n",
    "        start[1] = start[1]+ step[1]\n",
    "        \n",
    "        "
   ]
  }
 ],
 "metadata": {
  "kernelspec": {
   "display_name": "Python 3",
   "language": "python",
   "name": "python3"
  },
  "language_info": {
   "codemirror_mode": {
    "name": "ipython",
    "version": 3
   },
   "file_extension": ".py",
   "mimetype": "text/x-python",
   "name": "python",
   "nbconvert_exporter": "python",
   "pygments_lexer": "ipython3",
   "version": "3.7.6"
  },
  "toc": {
   "base_numbering": 1,
   "nav_menu": {},
   "number_sections": true,
   "sideBar": true,
   "skip_h1_title": false,
   "title_cell": "Table of Contents",
   "title_sidebar": "Contents",
   "toc_cell": false,
   "toc_position": {},
   "toc_section_display": true,
   "toc_window_display": false
  }
 },
 "nbformat": 4,
 "nbformat_minor": 2
}
