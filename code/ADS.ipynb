{
 "cells": [
  {
   "cell_type": "markdown",
   "metadata": {},
   "source": [
    "# HW_1_1"
   ]
  },
  {
   "cell_type": "markdown",
   "metadata": {},
   "source": [
    "## Code"
   ]
  },
  {
   "cell_type": "code",
   "execution_count": 124,
   "metadata": {},
   "outputs": [
    {
     "name": "stdout",
     "output_type": "stream",
     "text": [
      "7\n",
      "88 70 61 96 120 90 65\n"
     ]
    }
   ],
   "source": [
    "N = input()\n",
    "nums = input().split(' ')"
   ]
  },
  {
   "cell_type": "code",
   "execution_count": 125,
   "metadata": {},
   "outputs": [
    {
     "data": {
      "text/plain": [
       "'7'"
      ]
     },
     "execution_count": 125,
     "metadata": {},
     "output_type": "execute_result"
    }
   ],
   "source": [
    "N"
   ]
  },
  {
   "cell_type": "code",
   "execution_count": 126,
   "metadata": {},
   "outputs": [
    {
     "data": {
      "text/plain": [
       "[88, 70, 61, 96, 120, 90, 65]"
      ]
     },
     "execution_count": 126,
     "metadata": {},
     "output_type": "execute_result"
    }
   ],
   "source": [
    "nums = [int(x) for x in nums]\n",
    "nums"
   ]
  },
  {
   "cell_type": "code",
   "execution_count": 127,
   "metadata": {},
   "outputs": [],
   "source": [
    "class Node:\n",
    "    def __init__(self,left,right,bf,father,value):\n",
    "        self.left = left\n",
    "        self.right = right\n",
    "        self.bf = bf\n",
    "        self.father = father\n",
    "        self.value = value"
   ]
  },
  {
   "cell_type": "code",
   "execution_count": 128,
   "metadata": {},
   "outputs": [],
   "source": [
    "def get_height(node):\n",
    "    if node.left == -1 and node.right == -1:\n",
    "        return 1\n",
    "    return max([get_height(node_nums[node.left]),get_height(node_nums[node.right])])+1\n",
    "def bf(node):\n",
    "    if node.left == -1 and node.right == -1:\n",
    "        return 0\n",
    "    if node.left == -1:\n",
    "        return get_height(node_nums[node.right])\n",
    "    elif node.right == -1:\n",
    "        return -get_height(node_nums[node.left])\n",
    "    return get_height(node_nums[node.right])-get_height(node_nums[node.left])"
   ]
  },
  {
   "cell_type": "code",
   "execution_count": 135,
   "metadata": {},
   "outputs": [
    {
     "name": "stdout",
     "output_type": "stream",
     "text": [
      "88\n"
     ]
    }
   ],
   "source": [
    "node_nums = []\n",
    "for x in nums:\n",
    "    flag = 0\n",
    "    if len(node_nums) == 0:\n",
    "        node_nums.append(Node(-1,-1,0,-1,x))\n",
    "    else:\n",
    "        current_node_id = 0\n",
    "        while node_nums[current_node_id].left != -1 or node_nums[current_node_id].right != -1:\n",
    "            if x > nums[current_node_id]:\n",
    "                if node_nums[current_node_id].right != -1:\n",
    "                    current_node_id = node_nums[current_node_id].right\n",
    "                else:\n",
    "                    node_nums[current_node_id].right = len(node_nums)\n",
    "                    node_nums.append(Node(-1,-1,0,current_node_id,x))\n",
    "                    checkBF(node_nums[-1])\n",
    "                    flag = 1\n",
    "#                     print_Nodes(node_nums)\n",
    "#                     print('----------')\n",
    "            else:\n",
    "                if node_nums[current_node_id].left != -1:\n",
    "                    current_node_id = node_nums[current_node_id].left\n",
    "                else:\n",
    "                    node_nums[current_node_id].left = len(node_nums)\n",
    "                    node_nums.append(Node(-1,-1,0,current_node_id,x))\n",
    "                    checkBF(node_nums[-1])\n",
    "                    flag = 1\n",
    "#                     print_Nodes(node_nums)\n",
    "#                     print('----------')\n",
    "        if flag == 0:\n",
    "            if x > nums[current_node_id]:\n",
    "                node_nums[current_node_id].right = len(node_nums)\n",
    "                node_nums.append(Node(-1,-1,0,current_node_id,x))\n",
    "                checkBF(node_nums[-1])\n",
    "#                 print_Nodes(node_nums)\n",
    "#                 print('----------')\n",
    "            else:\n",
    "                node_nums[current_node_id].left = len(node_nums)\n",
    "                node_nums.append(Node(-1,-1,0,current_node_id,x))\n",
    "                checkBF(node_nums[-1])\n",
    "#                 print_Nodes(node_nums)\n",
    "#                 print('----------')\n",
    "print([x.value for x in node_nums if x.father == -1][0])"
   ]
  },
  {
   "cell_type": "code",
   "execution_count": 133,
   "metadata": {},
   "outputs": [
    {
     "name": "stdout",
     "output_type": "stream",
     "text": [
      "left:6 right:3 father:-1 bf:0 value:88\n",
      "left:-1 right:-1 father:6 bf:-2 value:70\n",
      "left:-1 right:-1 father:6 bf:1 value:61\n",
      "left:5 right:4 father:0 bf:-1 value:96\n",
      "left:-1 right:-1 father:3 bf:0 value:120\n",
      "left:-1 right:-1 father:0 bf:0 value:90\n",
      "left:2 right:1 father:0 bf:0 value:65\n"
     ]
    }
   ],
   "source": [
    "def print_Nodes(Tree):\n",
    "    for x in Tree:\n",
    "        print('left:'+str(x.left)+' right:'+str(x.right)+' father:'+str(x.father)+' bf:'+str(x.bf)+' value:'+str(x.value))\n",
    "print_Nodes(node_nums)"
   ]
  },
  {
   "cell_type": "code",
   "execution_count": 82,
   "metadata": {},
   "outputs": [
    {
     "data": {
      "text/plain": [
       "0"
      ]
     },
     "execution_count": 82,
     "metadata": {},
     "output_type": "execute_result"
    }
   ],
   "source": [
    "bf(node_nums[4])"
   ]
  },
  {
   "cell_type": "code",
   "execution_count": 118,
   "metadata": {},
   "outputs": [],
   "source": [
    "def RR_rotation(node):\n",
    "    root = node.right\n",
    "    father = node.father\n",
    "    node_nums[root].father = father\n",
    "    node.right = node_nums[root].left\n",
    "    node_nums[root].left = node_nums.index(node)\n",
    "    node.father = root\n",
    "    return root"
   ]
  },
  {
   "cell_type": "code",
   "execution_count": 119,
   "metadata": {},
   "outputs": [],
   "source": [
    "def LL_rotation(node):\n",
    "    root = node.left\n",
    "    father = node.father\n",
    "    node_nums[root].father = father\n",
    "    node.left = node_nums[root].right\n",
    "    node_nums[root].right = node_nums.index(node)\n",
    "    node.father = root\n",
    "    return root"
   ]
  },
  {
   "cell_type": "code",
   "execution_count": 130,
   "metadata": {},
   "outputs": [],
   "source": [
    "def LR_rotation(node):\n",
    "    root = RR_rotation(node_nums[node.left])\n",
    "    node.left = root\n",
    "    return LL_rotation(node)\n",
    "def RL_rotation(node):\n",
    "    root = LL_rotation(node_nums[node.right])\n",
    "    node.right = root\n",
    "    return RR_rotation(node)"
   ]
  },
  {
   "cell_type": "code",
   "execution_count": 131,
   "metadata": {},
   "outputs": [],
   "source": [
    "def checkBF(node):\n",
    "    node.bf = bf(node)\n",
    "    father = node.father\n",
    "    is_left = False\n",
    "    is_right = False\n",
    "    if node.father != -1:\n",
    "        is_left = node_nums[node.father].left == node_nums.index(node)\n",
    "        is_right = node_nums[node.father].right == node_nums.index(node)\n",
    "    if node.bf not in {1,-1,0}:\n",
    "        if node.bf > 1:\n",
    "            if node_nums[node.right].bf > 0:\n",
    "                if not is_left and not is_right:\n",
    "                    RR_rotation(node)\n",
    "                elif is_left:\n",
    "                    node_nums[father].left = RR_rotation(node)\n",
    "                elif is_right:\n",
    "                    node_nums[father].right = RR_rotation(node)\n",
    "            elif node_nums[node.right].bf < 0:\n",
    "                if not is_left and not is_right:\n",
    "                    RL_rotation(node)\n",
    "                elif is_left:\n",
    "                    node_nums[father].left = RL_rotation(node)\n",
    "                elif is_right:\n",
    "                    node_nums[father].right = RL_rotation(node)\n",
    "        elif node.bf < -1:\n",
    "            if node_nums[node.left].bf < 0:\n",
    "                if not is_left and not is_right:\n",
    "                    LL_rotation(node)\n",
    "                elif is_left:\n",
    "                    node_nums[father].left = LL_rotation(node)\n",
    "                elif is_right:\n",
    "                    node_nums[father].right = LL_rotation(node)\n",
    "            elif node_nums[node.left].bf > 0:\n",
    "                if not is_left and not is_right:\n",
    "                    LR_rotation(node)\n",
    "                elif is_left:\n",
    "                    node_nums[father].left = LR_rotation(node)\n",
    "                elif is_right:\n",
    "                    node_nums[father].right = LR_rotation(node)\n",
    "    if node.father == -1:\n",
    "        return\n",
    "    checkBF(node_nums[node.father])"
   ]
  },
  {
   "cell_type": "markdown",
   "metadata": {},
   "source": [
    "## Notes"
   ]
  },
  {
   "cell_type": "markdown",
   "metadata": {},
   "source": [
    "* 先写一个BST，再做BF check\n",
    "* 写rotation的时候要注意返回值，判断传入的node是其father的left child 还是 right child\n",
    "* current node id 初始不一定是0。在root旋转过后就会变，找那个father为-1的就可以了\n",
    "* 用index代替pointer\n",
    "* 善用画图"
   ]
  },
  {
   "cell_type": "markdown",
   "metadata": {},
   "source": [
    "# Spay Tree"
   ]
  },
  {
   "cell_type": "code",
   "execution_count": 42,
   "metadata": {},
   "outputs": [],
   "source": [
    "class Node:\n",
    "    def __init__(self,left,right,value,father):\n",
    "        self.left = left\n",
    "        self.right = right\n",
    "        self.value = value\n",
    "        self.father = father"
   ]
  },
  {
   "cell_type": "code",
   "execution_count": 43,
   "metadata": {},
   "outputs": [
    {
     "name": "stdout",
     "output_type": "stream",
     "text": [
      "1,2,3,4,5,6\n"
     ]
    },
    {
     "data": {
      "text/plain": [
       "[1, 2, 3, 4, 5, 6]"
      ]
     },
     "execution_count": 43,
     "metadata": {},
     "output_type": "execute_result"
    }
   ],
   "source": [
    "values = [int(x) for x in input().split(',')]\n",
    "values"
   ]
  },
  {
   "cell_type": "code",
   "execution_count": 44,
   "metadata": {},
   "outputs": [
    {
     "data": {
      "text/plain": [
       "[<__main__.Node at 0x7fb68435b590>]"
      ]
     },
     "execution_count": 44,
     "metadata": {},
     "output_type": "execute_result"
    }
   ],
   "source": [
    "nodes = [Node(-1,-1,values[0],-1)]\n",
    "nodes"
   ]
  },
  {
   "cell_type": "code",
   "execution_count": 45,
   "metadata": {},
   "outputs": [],
   "source": [
    "for x in values[1:]:\n",
    "    root_index = [i for i,x in enumerate(nodes) if x.father == -1][0]\n",
    "    former_root_index = root_index\n",
    "    while root_index != -1:\n",
    "        if x > values[root_index]:\n",
    "            former_root_index = root_index\n",
    "            root_index = nodes[root_index].right\n",
    "        else:\n",
    "            former_root_index = root_index\n",
    "            root_index = nodes[root_index].left\n",
    "    if x > values[former_root_index]:\n",
    "        nodes[former_root_index].right = len(nodes)\n",
    "        nodes.append(Node(-1,-1,x,former_root_index))\n",
    "    else:\n",
    "        nodes[former_root_index].left = len(nodes)\n",
    "        nodes.append(Node(-1,-1,x,former_root_index))"
   ]
  },
  {
   "cell_type": "code",
   "execution_count": 46,
   "metadata": {},
   "outputs": [],
   "source": [
    "def print_tree(nodes):\n",
    "    for x in nodes:\n",
    "        print('left:'+str(x.left)+' right:'+str(x.right)+' value:'+str(x.value)+' father:'+str(x.father))"
   ]
  },
  {
   "cell_type": "code",
   "execution_count": 47,
   "metadata": {},
   "outputs": [
    {
     "name": "stdout",
     "output_type": "stream",
     "text": [
      "left:-1 right:1 value:1 father:-1\n",
      "left:-1 right:2 value:2 father:0\n",
      "left:-1 right:3 value:3 father:1\n",
      "left:-1 right:4 value:4 father:2\n",
      "left:-1 right:5 value:5 father:3\n",
      "left:-1 right:-1 value:6 father:4\n"
     ]
    }
   ],
   "source": [
    "print_tree(nodes)"
   ]
  },
  {
   "cell_type": "code",
   "execution_count": 48,
   "metadata": {},
   "outputs": [],
   "source": [
    "def visit_node(node_value):\n",
    "    for x in nodes:\n",
    "        root_index = [i for i,x in enumerate(nodes) if x.father == -1][0]\n",
    "        while root_index != -1:\n",
    "            if nodes[root_index].value == node_value:\n",
    "                break;\n",
    "            elif node_value > nodes[root_index].value:\n",
    "                root_index = nodes[root_index].right\n",
    "            elif node_value < nodes[root_index].value:\n",
    "                root_index = nodes[root_index].left\n",
    "        if root_index == -1:\n",
    "            return None\n",
    "        bobble(nodes[root_index])"
   ]
  },
  {
   "cell_type": "code",
   "execution_count": 49,
   "metadata": {},
   "outputs": [],
   "source": [
    "def is_right(node):\n",
    "    if node.value > nodes[node.father].value:\n",
    "        return True"
   ]
  },
  {
   "cell_type": "code",
   "execution_count": 50,
   "metadata": {},
   "outputs": [],
   "source": [
    "def zig_zag_LR(node,father,grad_father):\n",
    "    node.father = grad_father.father\n",
    "    father.right = node.left\n",
    "    father.father = nodes.index(node)\n",
    "    grad_father.left = node.right\n",
    "    grad_father.father = nodes.index(node)\n",
    "    node.left = nodes.index(father)\n",
    "    node.right = nodes.index(grad_father)\n",
    "def zig_zag_RL(node,father,grad_father):\n",
    "    node.father = grad_father.father\n",
    "    father.left = node.right\n",
    "    father.father = nodes.index(node)\n",
    "    grad_father.right = node.left\n",
    "    grad_father.father = nodes.index(node)\n",
    "    node.right = nodes.index(father)\n",
    "    node.left = nodes.index(grad_father)\n",
    "def zig_zig_LL(node,father,grad_father):\n",
    "    node.father = grad_father.father\n",
    "    father.left = node.right\n",
    "    node.right = nodes.index(father)\n",
    "    grad_father.left = father.right\n",
    "    father.right = nodes.index(grad_father)\n",
    "    father.father = nodes.index(node)\n",
    "    grad_father.father = nodes.index(father)\n",
    "def zig_zig_RR(node,father,grad_father):\n",
    "    node.father = grad_father.father\n",
    "    father.right = node.left\n",
    "    node.left = nodes.index(father)\n",
    "    grad_father.right = father.left\n",
    "    father.left = nodes.index(grad_father)\n",
    "    father.father = nodes.index(node)\n",
    "    grad_father.father = nodes.index(father)"
   ]
  },
  {
   "cell_type": "code",
   "execution_count": 51,
   "metadata": {},
   "outputs": [],
   "source": [
    "def bobble(node):\n",
    "    father_index = node.father\n",
    "    if father_index == -1:\n",
    "        return\n",
    "    grad_father_index = nodes[father_index].father\n",
    "    if nodes[father_index].father == -1:\n",
    "        if is_right(node):\n",
    "            node.father = -1\n",
    "            nodes[father_index].father = nodes.index(node)\n",
    "            nodes[father_index].right = node.left\n",
    "            node.left = father_index\n",
    "            return\n",
    "        else:\n",
    "            node.father = -1\n",
    "            nodes[father_index].father = nodes.index(node)\n",
    "            nodes[father_index].left = node.right\n",
    "            node.right = father_index\n",
    "            return\n",
    "    if is_right(node):\n",
    "        if is_right(nodes[father_index]):\n",
    "            # right-right\n",
    "            zig_zig_RR(node,nodes[father_index],nodes[grad_father_index])\n",
    "        else:\n",
    "            # right-left\n",
    "            zig_zag_RL(node,nodes[father_index],nodes[grad_father_index])\n",
    "    else:\n",
    "        if is_right(nodes[father_index]):\n",
    "            # left-right\n",
    "            zig_zag_LR(node,nodes[father_index],nodes[grad_father_index])\n",
    "        else:\n",
    "            # left-left\n",
    "            zig_zig_LL(node,nodes[father_index],nodes[grad_father_index])\n",
    "    bobble(node)"
   ]
  },
  {
   "cell_type": "code",
   "execution_count": 52,
   "metadata": {},
   "outputs": [],
   "source": [
    "visit_node(3)"
   ]
  },
  {
   "cell_type": "code",
   "execution_count": 53,
   "metadata": {},
   "outputs": [
    {
     "name": "stdout",
     "output_type": "stream",
     "text": [
      "left:-1 right:-1 value:1 father:1\n",
      "left:0 right:-1 value:2 father:2\n",
      "left:1 right:3 value:3 father:-1\n",
      "left:-1 right:4 value:4 father:2\n",
      "left:-1 right:5 value:5 father:3\n",
      "left:-1 right:-1 value:6 father:4\n"
     ]
    }
   ],
   "source": [
    "print_tree(nodes)"
   ]
  },
  {
   "cell_type": "markdown",
   "metadata": {},
   "source": [
    "![](https://koyomi.oss-cn-hangzhou.aliyuncs.com/20200226102045.png)"
   ]
  },
  {
   "cell_type": "markdown",
   "metadata": {},
   "source": [
    "# HW 6 warewolves"
   ]
  },
  {
   "cell_type": "code",
   "execution_count": 19,
   "metadata": {
    "scrolled": true
   },
   "outputs": [
    {
     "name": "stdout",
     "output_type": "stream",
     "text": [
      "5 2 2\n"
     ]
    },
    {
     "ename": "KeyboardInterrupt",
     "evalue": "",
     "output_type": "error",
     "traceback": [
      "\u001b[0;31m---------------------------------------------------------------------------\u001b[0m",
      "\u001b[0;31mKeyboardInterrupt\u001b[0m                         Traceback (most recent call last)",
      "\u001b[0;32m~/anaconda3/lib/python3.7/site-packages/ipykernel/kernelbase.py\u001b[0m in \u001b[0;36m_input_request\u001b[0;34m(self, prompt, ident, parent, password)\u001b[0m\n\u001b[1;32m    883\u001b[0m             \u001b[0;32mtry\u001b[0m\u001b[0;34m:\u001b[0m\u001b[0;34m\u001b[0m\u001b[0;34m\u001b[0m\u001b[0m\n\u001b[0;32m--> 884\u001b[0;31m                 \u001b[0mident\u001b[0m\u001b[0;34m,\u001b[0m \u001b[0mreply\u001b[0m \u001b[0;34m=\u001b[0m \u001b[0mself\u001b[0m\u001b[0;34m.\u001b[0m\u001b[0msession\u001b[0m\u001b[0;34m.\u001b[0m\u001b[0mrecv\u001b[0m\u001b[0;34m(\u001b[0m\u001b[0mself\u001b[0m\u001b[0;34m.\u001b[0m\u001b[0mstdin_socket\u001b[0m\u001b[0;34m,\u001b[0m \u001b[0;36m0\u001b[0m\u001b[0;34m)\u001b[0m\u001b[0;34m\u001b[0m\u001b[0;34m\u001b[0m\u001b[0m\n\u001b[0m\u001b[1;32m    885\u001b[0m             \u001b[0;32mexcept\u001b[0m \u001b[0mException\u001b[0m\u001b[0;34m:\u001b[0m\u001b[0;34m\u001b[0m\u001b[0;34m\u001b[0m\u001b[0m\n",
      "\u001b[0;32m~/anaconda3/lib/python3.7/site-packages/jupyter_client/session.py\u001b[0m in \u001b[0;36mrecv\u001b[0;34m(self, socket, mode, content, copy)\u001b[0m\n\u001b[1;32m    802\u001b[0m         \u001b[0;32mtry\u001b[0m\u001b[0;34m:\u001b[0m\u001b[0;34m\u001b[0m\u001b[0;34m\u001b[0m\u001b[0m\n\u001b[0;32m--> 803\u001b[0;31m             \u001b[0mmsg_list\u001b[0m \u001b[0;34m=\u001b[0m \u001b[0msocket\u001b[0m\u001b[0;34m.\u001b[0m\u001b[0mrecv_multipart\u001b[0m\u001b[0;34m(\u001b[0m\u001b[0mmode\u001b[0m\u001b[0;34m,\u001b[0m \u001b[0mcopy\u001b[0m\u001b[0;34m=\u001b[0m\u001b[0mcopy\u001b[0m\u001b[0;34m)\u001b[0m\u001b[0;34m\u001b[0m\u001b[0;34m\u001b[0m\u001b[0m\n\u001b[0m\u001b[1;32m    804\u001b[0m         \u001b[0;32mexcept\u001b[0m \u001b[0mzmq\u001b[0m\u001b[0;34m.\u001b[0m\u001b[0mZMQError\u001b[0m \u001b[0;32mas\u001b[0m \u001b[0me\u001b[0m\u001b[0;34m:\u001b[0m\u001b[0;34m\u001b[0m\u001b[0;34m\u001b[0m\u001b[0m\n",
      "\u001b[0;32m~/anaconda3/lib/python3.7/site-packages/zmq/sugar/socket.py\u001b[0m in \u001b[0;36mrecv_multipart\u001b[0;34m(self, flags, copy, track)\u001b[0m\n\u001b[1;32m    474\u001b[0m         \"\"\"\n\u001b[0;32m--> 475\u001b[0;31m         \u001b[0mparts\u001b[0m \u001b[0;34m=\u001b[0m \u001b[0;34m[\u001b[0m\u001b[0mself\u001b[0m\u001b[0;34m.\u001b[0m\u001b[0mrecv\u001b[0m\u001b[0;34m(\u001b[0m\u001b[0mflags\u001b[0m\u001b[0;34m,\u001b[0m \u001b[0mcopy\u001b[0m\u001b[0;34m=\u001b[0m\u001b[0mcopy\u001b[0m\u001b[0;34m,\u001b[0m \u001b[0mtrack\u001b[0m\u001b[0;34m=\u001b[0m\u001b[0mtrack\u001b[0m\u001b[0;34m)\u001b[0m\u001b[0;34m]\u001b[0m\u001b[0;34m\u001b[0m\u001b[0;34m\u001b[0m\u001b[0m\n\u001b[0m\u001b[1;32m    476\u001b[0m         \u001b[0;31m# have first part already, only loop while more to receive\u001b[0m\u001b[0;34m\u001b[0m\u001b[0;34m\u001b[0m\u001b[0;34m\u001b[0m\u001b[0m\n",
      "\u001b[0;32mzmq/backend/cython/socket.pyx\u001b[0m in \u001b[0;36mzmq.backend.cython.socket.Socket.recv\u001b[0;34m()\u001b[0m\n",
      "\u001b[0;32mzmq/backend/cython/socket.pyx\u001b[0m in \u001b[0;36mzmq.backend.cython.socket.Socket.recv\u001b[0;34m()\u001b[0m\n",
      "\u001b[0;32mzmq/backend/cython/socket.pyx\u001b[0m in \u001b[0;36mzmq.backend.cython.socket._recv_copy\u001b[0;34m()\u001b[0m\n",
      "\u001b[0;32m~/anaconda3/lib/python3.7/site-packages/zmq/backend/cython/checkrc.pxd\u001b[0m in \u001b[0;36mzmq.backend.cython.checkrc._check_rc\u001b[0;34m()\u001b[0m\n",
      "\u001b[0;31mKeyboardInterrupt\u001b[0m: ",
      "\nDuring handling of the above exception, another exception occurred:\n",
      "\u001b[0;31mKeyboardInterrupt\u001b[0m                         Traceback (most recent call last)",
      "\u001b[0;32m<ipython-input-19-a044e235a6be>\u001b[0m in \u001b[0;36m<module>\u001b[0;34m\u001b[0m\n\u001b[1;32m      6\u001b[0m \u001b[0mstats\u001b[0m \u001b[0;34m=\u001b[0m \u001b[0;34m[\u001b[0m\u001b[0;34m]\u001b[0m\u001b[0;34m\u001b[0m\u001b[0;34m\u001b[0m\u001b[0m\n\u001b[1;32m      7\u001b[0m \u001b[0;32mfor\u001b[0m \u001b[0m_\u001b[0m \u001b[0;32min\u001b[0m \u001b[0mrange\u001b[0m\u001b[0;34m(\u001b[0m\u001b[0mN\u001b[0m\u001b[0;34m)\u001b[0m\u001b[0;34m:\u001b[0m\u001b[0;34m\u001b[0m\u001b[0;34m\u001b[0m\u001b[0m\n\u001b[0;32m----> 8\u001b[0;31m     \u001b[0mstats\u001b[0m\u001b[0;34m.\u001b[0m\u001b[0mappend\u001b[0m\u001b[0;34m(\u001b[0m\u001b[0minput\u001b[0m\u001b[0;34m(\u001b[0m\u001b[0;34m)\u001b[0m\u001b[0;34m)\u001b[0m\u001b[0;34m\u001b[0m\u001b[0;34m\u001b[0m\u001b[0m\n\u001b[0m",
      "\u001b[0;32m~/anaconda3/lib/python3.7/site-packages/ipykernel/kernelbase.py\u001b[0m in \u001b[0;36mraw_input\u001b[0;34m(self, prompt)\u001b[0m\n\u001b[1;32m    857\u001b[0m             \u001b[0mself\u001b[0m\u001b[0;34m.\u001b[0m\u001b[0m_parent_ident\u001b[0m\u001b[0;34m,\u001b[0m\u001b[0;34m\u001b[0m\u001b[0;34m\u001b[0m\u001b[0m\n\u001b[1;32m    858\u001b[0m             \u001b[0mself\u001b[0m\u001b[0;34m.\u001b[0m\u001b[0m_parent_header\u001b[0m\u001b[0;34m,\u001b[0m\u001b[0;34m\u001b[0m\u001b[0;34m\u001b[0m\u001b[0m\n\u001b[0;32m--> 859\u001b[0;31m             \u001b[0mpassword\u001b[0m\u001b[0;34m=\u001b[0m\u001b[0;32mFalse\u001b[0m\u001b[0;34m,\u001b[0m\u001b[0;34m\u001b[0m\u001b[0;34m\u001b[0m\u001b[0m\n\u001b[0m\u001b[1;32m    860\u001b[0m         )\n\u001b[1;32m    861\u001b[0m \u001b[0;34m\u001b[0m\u001b[0m\n",
      "\u001b[0;32m~/anaconda3/lib/python3.7/site-packages/ipykernel/kernelbase.py\u001b[0m in \u001b[0;36m_input_request\u001b[0;34m(self, prompt, ident, parent, password)\u001b[0m\n\u001b[1;32m    887\u001b[0m             \u001b[0;32mexcept\u001b[0m \u001b[0mKeyboardInterrupt\u001b[0m\u001b[0;34m:\u001b[0m\u001b[0;34m\u001b[0m\u001b[0;34m\u001b[0m\u001b[0m\n\u001b[1;32m    888\u001b[0m                 \u001b[0;31m# re-raise KeyboardInterrupt, to truncate traceback\u001b[0m\u001b[0;34m\u001b[0m\u001b[0;34m\u001b[0m\u001b[0;34m\u001b[0m\u001b[0m\n\u001b[0;32m--> 889\u001b[0;31m                 \u001b[0;32mraise\u001b[0m \u001b[0mKeyboardInterrupt\u001b[0m\u001b[0;34m\u001b[0m\u001b[0;34m\u001b[0m\u001b[0m\n\u001b[0m\u001b[1;32m    890\u001b[0m             \u001b[0;32melse\u001b[0m\u001b[0;34m:\u001b[0m\u001b[0;34m\u001b[0m\u001b[0;34m\u001b[0m\u001b[0m\n\u001b[1;32m    891\u001b[0m                 \u001b[0;32mbreak\u001b[0m\u001b[0;34m\u001b[0m\u001b[0;34m\u001b[0m\u001b[0m\n",
      "\u001b[0;31mKeyboardInterrupt\u001b[0m: "
     ]
    }
   ],
   "source": [
    "# 读取数据\n",
    "paras = input().split(\" \")\n",
    "N = int(paras[0])\n",
    "M = int(paras[1])\n",
    "L = int(paras[2])\n",
    "stats = []\n",
    "for _ in range(N):\n",
    "    stats.append(input())"
   ]
  },
  {
   "cell_type": "code",
   "execution_count": 23,
   "metadata": {},
   "outputs": [],
   "source": [
    "with open(\"in\",\"r\",encoding='utf-8') as f:\n",
    "    lst = f.readlines()\n",
    "    paras = lst[0].split(\" \")\n",
    "    N = int(paras[0])\n",
    "    M = int(paras[1])\n",
    "    L = int(paras[2])\n",
    "    stats = []\n",
    "    for x in lst[1:]:\n",
    "        x = x.strip(\"\\n\")\n",
    "        stats.append(x)"
   ]
  },
  {
   "cell_type": "code",
   "execution_count": 24,
   "metadata": {
    "scrolled": true
   },
   "outputs": [],
   "source": [
    "import itertools\n",
    "# 排列组合 C N L 选出说谎组合"
   ]
  },
  {
   "cell_type": "code",
   "execution_count": 29,
   "metadata": {},
   "outputs": [
    {
     "name": "stdout",
     "output_type": "stream",
     "text": [
      "(1, 2)\n",
      "(1, 3)\n",
      "(1, 4)\n",
      "(1, 5)\n",
      "(2, 3)\n",
      "(2, 4)\n",
      "(2, 5)\n",
      "(3, 4)\n",
      "(3, 5)\n",
      "(4, 5)\n"
     ]
    }
   ],
   "source": [
    "for i in itertools.combinations(range(1,N+1),L):\n",
    "    print(i)"
   ]
  },
  {
   "cell_type": "code",
   "execution_count": 30,
   "metadata": {
    "scrolled": true
   },
   "outputs": [
    {
     "data": {
      "text/plain": [
       "['-2', '+3', '-4', '+5', '+4']"
      ]
     },
     "execution_count": 30,
     "metadata": {},
     "output_type": "execute_result"
    }
   ],
   "source": [
    "stats"
   ]
  },
  {
   "cell_type": "code",
   "execution_count": 31,
   "metadata": {},
   "outputs": [
    {
     "data": {
      "text/plain": [
       "{1: '-2', 2: '+3', 3: '-4', 4: '+5', 5: '+4'}"
      ]
     },
     "execution_count": 31,
     "metadata": {},
     "output_type": "execute_result"
    }
   ],
   "source": [
    "dic = dict(zip(range(1,N+1),stats))\n",
    "dic"
   ]
  },
  {
   "cell_type": "code",
   "execution_count": 34,
   "metadata": {},
   "outputs": [
    {
     "ename": "IndexError",
     "evalue": "list assignment index out of range",
     "output_type": "error",
     "traceback": [
      "\u001b[0;31m---------------------------------------------------------------------------\u001b[0m",
      "\u001b[0;31mIndexError\u001b[0m                                Traceback (most recent call last)",
      "\u001b[0;32m<ipython-input-34-38abb8abcbc6>\u001b[0m in \u001b[0;36m<module>\u001b[0;34m\u001b[0m\n\u001b[1;32m     25\u001b[0m         \u001b[0;32mif\u001b[0m \u001b[0mdic\u001b[0m\u001b[0;34m[\u001b[0m\u001b[0mx\u001b[0m\u001b[0;34m]\u001b[0m\u001b[0;34m[\u001b[0m\u001b[0;36m0\u001b[0m\u001b[0;34m]\u001b[0m \u001b[0;34m==\u001b[0m \u001b[0;34m'-'\u001b[0m\u001b[0;34m:\u001b[0m\u001b[0;34m\u001b[0m\u001b[0;34m\u001b[0m\u001b[0m\n\u001b[1;32m     26\u001b[0m             \u001b[0;31m# True 表示为好人\u001b[0m\u001b[0;34m\u001b[0m\u001b[0;34m\u001b[0m\u001b[0;34m\u001b[0m\u001b[0m\n\u001b[0;32m---> 27\u001b[0;31m             \u001b[0mperson\u001b[0m\u001b[0;34m[\u001b[0m\u001b[0mnxt\u001b[0m\u001b[0;34m]\u001b[0m \u001b[0;34m=\u001b[0m \u001b[0;32mTrue\u001b[0m\u001b[0;34m\u001b[0m\u001b[0;34m\u001b[0m\u001b[0m\n\u001b[0m\u001b[1;32m     28\u001b[0m         \u001b[0;32melse\u001b[0m\u001b[0;34m:\u001b[0m\u001b[0;34m\u001b[0m\u001b[0;34m\u001b[0m\u001b[0m\n\u001b[1;32m     29\u001b[0m             \u001b[0;31m# False 表示为狼人\u001b[0m\u001b[0;34m\u001b[0m\u001b[0;34m\u001b[0m\u001b[0;34m\u001b[0m\u001b[0m\n",
      "\u001b[0;31mIndexError\u001b[0m: list assignment index out of range"
     ]
    }
   ],
   "source": [
    "import collections\n",
    "#其他人说的都是真话\n",
    "def judgeNext(nxt:int):\n",
    "    global person\n",
    "    nxt = int(dic[nxt][1])\n",
    "    if dic[nxt][0] == '-':\n",
    "        if person[nxt] == True:\n",
    "            return\n",
    "        person[nxt] = False\n",
    "    if dic[nxt][0] == '+':\n",
    "        if person[nxt] == False:\n",
    "            return\n",
    "        person[nxt] = True\n",
    "    dic.pop(nxt)\n",
    "    if not dic:\n",
    "        return\n",
    "    judgeNext(nxt)\n",
    "\n",
    "result = []\n",
    "for i in itertools.combinations(range(1,N+1),L):\n",
    "    person = []*(N+1)\n",
    "    # 第一轮判断\n",
    "    for x in i:\n",
    "        nxt = int(dic[x][1])\n",
    "        if dic[x][0] == '-':\n",
    "            # True 表示为好人\n",
    "            person[nxt] = True\n",
    "        else:\n",
    "            # False 表示为狼人\n",
    "            person[nxt] = False\n",
    "        dic.pop(x)\n",
    "        #第二轮判断\n",
    "        judgeNext(nxt)\n",
    "    if not dic:\n",
    "        # 没有逻辑矛盾，看狼人数目是否符合\n",
    "        # 存在逻辑矛盾，直接否定\n",
    "        count = collections.Counter(person)\n",
    "        if count[False] == M:\n",
    "            result.append(person)\n",
    "        \n",
    "    \n",
    "        \n",
    "        "
   ]
  },
  {
   "cell_type": "code",
   "execution_count": null,
   "metadata": {},
   "outputs": [],
   "source": []
  }
 ],
 "metadata": {
  "kernelspec": {
   "display_name": "Python 3",
   "language": "python",
   "name": "python3"
  },
  "language_info": {
   "codemirror_mode": {
    "name": "ipython",
    "version": 3
   },
   "file_extension": ".py",
   "mimetype": "text/x-python",
   "name": "python",
   "nbconvert_exporter": "python",
   "pygments_lexer": "ipython3",
   "version": "3.7.6"
  },
  "toc": {
   "base_numbering": 1,
   "nav_menu": {},
   "number_sections": true,
   "sideBar": true,
   "skip_h1_title": false,
   "title_cell": "Table of Contents",
   "title_sidebar": "Contents",
   "toc_cell": false,
   "toc_position": {},
   "toc_section_display": true,
   "toc_window_display": true
  }
 },
 "nbformat": 4,
 "nbformat_minor": 2
}
