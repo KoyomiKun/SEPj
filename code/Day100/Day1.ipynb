{
 "cells": [
  {
   "cell_type": "markdown",
   "metadata": {},
   "source": [
    "# Day1\n",
    "## arrs and data structure\n",
    "### arrs"
   ]
  },
  {
   "cell_type": "code",
   "execution_count": 3,
   "metadata": {},
   "outputs": [
    {
     "data": {
      "text/plain": [
       "[1, 2, 3, 4, 5]"
      ]
     },
     "execution_count": 3,
     "metadata": {},
     "output_type": "execute_result"
    }
   ],
   "source": [
    "arr = [1,2,3,4,5]\n",
    "arr"
   ]
  },
  {
   "cell_type": "markdown",
   "metadata": {},
   "source": [
    "* insert让指定位置后面的向后移动"
   ]
  },
  {
   "cell_type": "code",
   "execution_count": 4,
   "metadata": {},
   "outputs": [
    {
     "data": {
      "text/plain": [
       "[1, 400, 2, 3, 4, 5]"
      ]
     },
     "execution_count": 4,
     "metadata": {},
     "output_type": "execute_result"
    }
   ],
   "source": [
    "arr.insert(1,400)\n",
    "arr"
   ]
  },
  {
   "cell_type": "markdown",
   "metadata": {},
   "source": [
    "* 自带的排序函数不会改变传入的数组\n",
    "* 好的函数设计就应该不产生副作用\n",
    "* 如果是字符串就字典序\n",
    "* 可以通过key参数改变排序的key\n",
    "* 默认从小到大，reverse = False可以反转"
   ]
  },
  {
   "cell_type": "code",
   "execution_count": 6,
   "metadata": {},
   "outputs": [
    {
     "data": {
      "text/plain": [
       "[1, 2, 3, 4, 5, 400]"
      ]
     },
     "execution_count": 6,
     "metadata": {},
     "output_type": "execute_result"
    }
   ],
   "source": [
    "arr = sorted(arr)\n",
    "arr"
   ]
  },
  {
   "cell_type": "code",
   "execution_count": 7,
   "metadata": {},
   "outputs": [
    {
     "data": {
      "text/plain": [
       "['ahaha', 'enough', 'not']"
      ]
     },
     "execution_count": 7,
     "metadata": {},
     "output_type": "execute_result"
    }
   ],
   "source": [
    "arr = [\"not\",\"enough\",\"ahaha\"]\n",
    "arr = sorted(arr)\n",
    "arr"
   ]
  },
  {
   "cell_type": "code",
   "execution_count": 9,
   "metadata": {},
   "outputs": [
    {
     "data": {
      "text/plain": [
       "['not', 'ahaha', 'enough']"
      ]
     },
     "execution_count": 9,
     "metadata": {},
     "output_type": "execute_result"
    }
   ],
   "source": [
    "arr = sorted(arr,key=len)\n",
    "arr"
   ]
  },
  {
   "cell_type": "code",
   "execution_count": 11,
   "metadata": {},
   "outputs": [
    {
     "data": {
      "text/plain": [
       "['ahaha', 'enough', 'not']"
      ]
     },
     "execution_count": 11,
     "metadata": {},
     "output_type": "execute_result"
    }
   ],
   "source": [
    "arr = sorted(arr,reverse=False)\n",
    "arr"
   ]
  },
  {
   "cell_type": "markdown",
   "metadata": {},
   "source": [
    "* 直接在列表上排序"
   ]
  },
  {
   "cell_type": "code",
   "execution_count": 12,
   "metadata": {},
   "outputs": [
    {
     "data": {
      "text/plain": [
       "['not', 'enough', 'ahaha']"
      ]
     },
     "execution_count": 12,
     "metadata": {},
     "output_type": "execute_result"
    }
   ],
   "source": [
    "arr.sort(reverse=True)\n",
    "arr"
   ]
  },
  {
   "cell_type": "markdown",
   "metadata": {},
   "source": [
    "### 生成式和生成器"
   ]
  },
  {
   "cell_type": "markdown",
   "metadata": {},
   "source": [
    "* 生成式不占用空间，生成器占用空间\n",
    "* 生成式在需要时去计算"
   ]
  },
  {
   "cell_type": "code",
   "execution_count": 13,
   "metadata": {},
   "outputs": [
    {
     "data": {
      "text/plain": [
       "['not', 'enough', 'ahaha']"
      ]
     },
     "execution_count": 13,
     "metadata": {},
     "output_type": "execute_result"
    }
   ],
   "source": [
    "f = [x for x in arr]\n",
    "f"
   ]
  },
  {
   "cell_type": "code",
   "execution_count": 14,
   "metadata": {},
   "outputs": [
    {
     "data": {
      "text/plain": [
       "<generator object <genexpr> at 0x7f519431c0d0>"
      ]
     },
     "execution_count": 14,
     "metadata": {},
     "output_type": "execute_result"
    }
   ],
   "source": [
    "f = (x for x in arr)\n",
    "f"
   ]
  },
  {
   "cell_type": "code",
   "execution_count": 15,
   "metadata": {},
   "outputs": [
    {
     "name": "stdout",
     "output_type": "stream",
     "text": [
      "not\n",
      "enough\n",
      "ahaha\n"
     ]
    }
   ],
   "source": [
    "for i in f:\n",
    "    print(i)"
   ]
  },
  {
   "cell_type": "markdown",
   "metadata": {},
   "source": [
    "### 元组\n",
    "* 和列表相比，元组是不可变的，因此在多线程中更容易维护\n",
    "* 组在创建时间和占用的空间上面都优于列表\n",
    "* %timeit:创建同样内容的元组和列表所花费的时间"
   ]
  },
  {
   "cell_type": "code",
   "execution_count": 16,
   "metadata": {},
   "outputs": [
    {
     "name": "stdout",
     "output_type": "stream",
     "text": [
      "56.9 ns ± 0.428 ns per loop (mean ± std. dev. of 7 runs, 10000000 loops each)\n"
     ]
    }
   ],
   "source": [
    "%timeit [1,2,3,4,5]"
   ]
  },
  {
   "cell_type": "code",
   "execution_count": 17,
   "metadata": {},
   "outputs": [
    {
     "name": "stdout",
     "output_type": "stream",
     "text": [
      "8.8 ns ± 0.411 ns per loop (mean ± std. dev. of 7 runs, 100000000 loops each)\n"
     ]
    }
   ],
   "source": [
    "%timeit (1,2,3,4,5)"
   ]
  },
  {
   "cell_type": "code",
   "execution_count": 18,
   "metadata": {},
   "outputs": [],
   "source": [
    "import sys"
   ]
  },
  {
   "cell_type": "code",
   "execution_count": 19,
   "metadata": {},
   "outputs": [
    {
     "data": {
      "text/plain": [
       "112"
      ]
     },
     "execution_count": 19,
     "metadata": {},
     "output_type": "execute_result"
    }
   ],
   "source": [
    "sys.getsizeof([1,2,3,4,5])"
   ]
  },
  {
   "cell_type": "code",
   "execution_count": 20,
   "metadata": {},
   "outputs": [
    {
     "data": {
      "text/plain": [
       "96"
      ]
     },
     "execution_count": 20,
     "metadata": {},
     "output_type": "execute_result"
    }
   ],
   "source": [
    "sys.getsizeof((1,2,3,4,5))"
   ]
  },
  {
   "cell_type": "markdown",
   "metadata": {},
   "source": [
    "### 集合"
   ]
  },
  {
   "cell_type": "code",
   "execution_count": 26,
   "metadata": {},
   "outputs": [
    {
     "name": "stdout",
     "output_type": "stream",
     "text": [
      "{0, 3, 6, 9, 12, 15, 18, 21, 24, 27, 30, 33, 36, 39, 42, 45, 48, 51, 54, 57, 60, 63, 66, 69, 72, 75, 78, 81, 84, 87, 90, 93, 96, 99}\n"
     ]
    }
   ],
   "source": [
    "set = {num for num in range(100) if num % 3 == 0}\n",
    "print(set)"
   ]
  },
  {
   "cell_type": "markdown",
   "metadata": {},
   "source": [
    "* update传入一个迭代器，批量添加"
   ]
  },
  {
   "cell_type": "code",
   "execution_count": 28,
   "metadata": {},
   "outputs": [
    {
     "name": "stdout",
     "output_type": "stream",
     "text": [
      "{0, 2, 3, 4, 5, 6, 9, 12, 15, 18, 21, 24, 27, 30, 33, 36, 39, 42, 45, 48, 51, 54, 57, 60, 63, 66, 69, 72, 75, 78, 81, 84, 87, 90, 93, 96, 99}\n"
     ]
    }
   ],
   "source": [
    "set.update([2,3,4,5])\n",
    "print(set)"
   ]
  },
  {
   "cell_type": "code",
   "execution_count": 29,
   "metadata": {},
   "outputs": [
    {
     "name": "stdout",
     "output_type": "stream",
     "text": [
      "{0, 3, 4, 5, 6, 9, 12, 15, 18, 21, 24, 27, 30, 33, 36, 39, 42, 45, 48, 51, 54, 57, 60, 63, 66, 69, 72, 75, 78, 81, 84, 87, 90, 93, 96, 99}\n"
     ]
    }
   ],
   "source": [
    "set.discard(2)\n",
    "print(set)"
   ]
  },
  {
   "cell_type": "markdown",
   "metadata": {},
   "source": [
    "* python中的集合运算可以用运算符"
   ]
  },
  {
   "cell_type": "code",
   "execution_count": 32,
   "metadata": {},
   "outputs": [
    {
     "data": {
      "text/plain": [
       "{1, 16, 31, 46, 61, 76, 91}"
      ]
     },
     "execution_count": 32,
     "metadata": {},
     "output_type": "execute_result"
    }
   ],
   "source": [
    "set1 = {num for num in range(100) if num%3 == 1}\n",
    "set2 = {num for num in range(100) if num%5 == 1}\n",
    "set1 & set2"
   ]
  },
  {
   "cell_type": "code",
   "execution_count": 34,
   "metadata": {},
   "outputs": [
    {
     "name": "stdout",
     "output_type": "stream",
     "text": [
      "{1, 4, 6, 7, 10, 11, 13, 16, 19, 21, 22, 25, 26, 28, 31, 34, 36, 37, 40, 41, 43, 46, 49, 51, 52, 55, 56, 58, 61, 64, 66, 67, 70, 71, 73, 76, 79, 81, 82, 85, 86, 88, 91, 94, 96, 97}\n"
     ]
    }
   ],
   "source": [
    "print(set1 | set2)"
   ]
  },
  {
   "cell_type": "code",
   "execution_count": 35,
   "metadata": {},
   "outputs": [
    {
     "name": "stdout",
     "output_type": "stream",
     "text": [
      "{4, 7, 10, 13, 19, 22, 25, 28, 34, 37, 40, 43, 49, 52, 55, 58, 64, 67, 70, 73, 79, 82, 85, 88, 94, 97}\n"
     ]
    }
   ],
   "source": [
    "print(set1 - set2)"
   ]
  },
  {
   "cell_type": "code",
   "execution_count": 36,
   "metadata": {},
   "outputs": [
    {
     "name": "stdout",
     "output_type": "stream",
     "text": [
      "{4, 6, 7, 10, 11, 13, 19, 21, 22, 25, 26, 28, 34, 36, 37, 40, 41, 43, 49, 51, 52, 55, 56, 58, 64, 66, 67, 70, 71, 73, 79, 81, 82, 85, 86, 88, 94, 96, 97}\n"
     ]
    }
   ],
   "source": [
    "print(set1 ^ set2)"
   ]
  },
  {
   "cell_type": "markdown",
   "metadata": {},
   "source": [
    "![](https://koyomi.oss-cn-hangzhou.aliyuncs.com/20200325222223.png)"
   ]
  },
  {
   "cell_type": "code",
   "execution_count": 38,
   "metadata": {},
   "outputs": [
    {
     "name": "stdout",
     "output_type": "stream",
     "text": [
      "False\n",
      "False\n",
      "False\n",
      "False\n"
     ]
    }
   ],
   "source": [
    "print(set2 <= set1)\n",
    "# print(set2.issubset(set1))\n",
    "print(set2 <= set1)\n",
    "# print(set1.issubset(set1))\n",
    "print(set1 >= set2)\n",
    "# print(set1.issuperset(set2))\n",
    "print(set1 >= set2)\n",
    "# print(set1.issuperset(set2))"
   ]
  },
  {
   "cell_type": "markdown",
   "metadata": {},
   "source": [
    "### 字典"
   ]
  },
  {
   "cell_type": "markdown",
   "metadata": {},
   "source": [
    "* 字典是一种键值对"
   ]
  },
  {
   "cell_type": "markdown",
   "metadata": {},
   "source": [
    "* 创建字典"
   ]
  },
  {
   "cell_type": "code",
   "execution_count": 39,
   "metadata": {},
   "outputs": [
    {
     "data": {
      "text/plain": [
       "{'zzl': 1, 'bbg': 2}"
      ]
     },
     "execution_count": 39,
     "metadata": {},
     "output_type": "execute_result"
    }
   ],
   "source": [
    "dic = {\"zzl\":1,\"bbg\":2}\n",
    "dic"
   ]
  },
  {
   "cell_type": "code",
   "execution_count": 46,
   "metadata": {},
   "outputs": [
    {
     "data": {
      "text/plain": [
       "{'zzl': 1, 'bbg': 2}"
      ]
     },
     "execution_count": 46,
     "metadata": {},
     "output_type": "execute_result"
    }
   ],
   "source": [
    "# 这里用的构造器，不是{}是()\n",
    "dic = dict(zzl=1,bbg=2)\n",
    "dic"
   ]
  },
  {
   "cell_type": "code",
   "execution_count": 48,
   "metadata": {},
   "outputs": [
    {
     "data": {
      "text/plain": [
       "{1: '1', 2: '2', 3: '3'}"
      ]
     },
     "execution_count": 48,
     "metadata": {},
     "output_type": "execute_result"
    }
   ],
   "source": [
    "# 可以看出以键值为准\n",
    "dic = dict(zip([1,2,3],\"1234\"))\n",
    "dic"
   ]
  },
  {
   "cell_type": "markdown",
   "metadata": {},
   "source": [
    "* 在 Python 3.x 中为了减少内存，zip() 返回的是一个对象。如需展示列表，需手动 list() 转换。"
   ]
  },
  {
   "cell_type": "code",
   "execution_count": 50,
   "metadata": {},
   "outputs": [
    {
     "name": "stdout",
     "output_type": "stream",
     "text": [
      "<zip object at 0x7f51779f30f0>\n"
     ]
    }
   ],
   "source": [
    "print(zip([1,2,3],\"1234\"))"
   ]
  },
  {
   "cell_type": "code",
   "execution_count": 56,
   "metadata": {},
   "outputs": [
    {
     "name": "stdout",
     "output_type": "stream",
     "text": [
      "(1, '1') (2, '2') (3, '3')\n"
     ]
    }
   ],
   "source": [
    "# 解压成二维数组\n",
    "print(*zip([1,2,3],\"1234\"))"
   ]
  },
  {
   "cell_type": "markdown",
   "metadata": {},
   "source": [
    "## OOP\n"
   ]
  },
  {
   "cell_type": "markdown",
   "metadata": {},
   "source": [
    "* python**不限制访问**，所谓加两个下划线私有只是单纯改个名字，其实外界可以访问"
   ]
  },
  {
   "cell_type": "code",
   "execution_count": 71,
   "metadata": {},
   "outputs": [],
   "source": [
    "class Test:\n",
    "    def __init__(self,private):\n",
    "        self.__private = private\n",
    "    def __test(self):\n",
    "        print(\"%s test\" %\"zzl\")\n",
    "    "
   ]
  },
  {
   "cell_type": "code",
   "execution_count": 72,
   "metadata": {},
   "outputs": [
    {
     "data": {
      "text/plain": [
       "123"
      ]
     },
     "execution_count": 72,
     "metadata": {},
     "output_type": "execute_result"
    }
   ],
   "source": [
    "test = Test(123)\n",
    "test._Test__private"
   ]
  },
  {
   "cell_type": "code",
   "execution_count": 73,
   "metadata": {},
   "outputs": [
    {
     "name": "stdout",
     "output_type": "stream",
     "text": [
      "zzl test\n"
     ]
    }
   ],
   "source": [
    "test._Test__test()"
   ]
  },
  {
   "cell_type": "markdown",
   "metadata": {},
   "source": [
    "* 在实际开发中，我们并不建议将属性设置为私有的，因为这会导致子类无法访问\n",
    "* 大多数Python程序员会遵循一种命名惯例就是让属性名以单下划线开头来表示属性是受保护的，本类之外的代码在访问这样的属性时应该要保持慎重\n",
    "* 这种做法并不是语法上的规则，单下划线开头的属性和方法外界仍然是可以访问的，所以更多的时候它是一种暗示或隐喻"
   ]
  },
  {
   "cell_type": "markdown",
   "metadata": {},
   "source": [
    "### @property\n",
    "@property 访问器就是get set方法"
   ]
  },
  {
   "cell_type": "code",
   "execution_count": 78,
   "metadata": {},
   "outputs": [],
   "source": [
    "class Test:\n",
    "    def __init__(self,name,age):\n",
    "        self._name = name\n",
    "        self._age = age\n",
    "    @property\n",
    "    def age(self):\n",
    "        return self._age\n",
    "    \n",
    "    @property\n",
    "    def name(self):\n",
    "        return self._name\n",
    "    \n",
    "    @age.setter\n",
    "    def age(self,age):\n",
    "        self._age = age\n",
    "    @name.setter\n",
    "    def name(self,name):\n",
    "        self._name = name"
   ]
  },
  {
   "cell_type": "code",
   "execution_count": 79,
   "metadata": {},
   "outputs": [
    {
     "data": {
      "text/plain": [
       "18"
      ]
     },
     "execution_count": 79,
     "metadata": {},
     "output_type": "execute_result"
    }
   ],
   "source": [
    "test = Test(\"zzl\",18)\n",
    "test.age"
   ]
  },
  {
   "cell_type": "code",
   "execution_count": 80,
   "metadata": {},
   "outputs": [
    {
     "data": {
      "text/plain": [
       "'zzl'"
      ]
     },
     "execution_count": 80,
     "metadata": {},
     "output_type": "execute_result"
    }
   ],
   "source": [
    "test.name"
   ]
  },
  {
   "cell_type": "code",
   "execution_count": 81,
   "metadata": {},
   "outputs": [
    {
     "data": {
      "text/plain": [
       "'garigari'"
      ]
     },
     "execution_count": 81,
     "metadata": {},
     "output_type": "execute_result"
    }
   ],
   "source": [
    "test.name = 'garigari'\n",
    "test.name"
   ]
  },
  {
   "cell_type": "markdown",
   "metadata": {},
   "source": [
    "### \\_\\_slots\\_\\_"
   ]
  },
  {
   "cell_type": "markdown",
   "metadata": {},
   "source": [
    "* 动态语言允许我们在程序运行时给对象绑定新的属性或方法，当然也可以对已经绑定的属性和方法进行解绑定。\n",
    "* 如果我们需要限定自定义类型的对象只能绑定某些属性，可以通过在类中定义__slots__变量来进行限定"
   ]
  },
  {
   "cell_type": "code",
   "execution_count": 82,
   "metadata": {},
   "outputs": [],
   "source": [
    "class Test:\n",
    "    __slots__ = {'_name','_age'}\n",
    "    def __init__(self,name,age):\n",
    "        self._name = name\n",
    "        self._age = age\n",
    "    @property\n",
    "    def age(self):\n",
    "        return self._age\n",
    "    \n",
    "    @property\n",
    "    def name(self):\n",
    "        return self._name\n",
    "    \n",
    "    @age.setter\n",
    "    def age(self,age):\n",
    "        self._age = age\n",
    "    @name.setter\n",
    "    def name(self,name):\n",
    "        self._name = name"
   ]
  },
  {
   "cell_type": "markdown",
   "metadata": {},
   "source": [
    "### staticmethod 和 classmethod"
   ]
  },
  {
   "cell_type": "markdown",
   "metadata": {},
   "source": [
    "* 静态方法就是传统属于类的方法\n",
    "* classmethod是必须有类参数cls\n",
    "* 静态方法和类方法都可以通过对象调用"
   ]
  },
  {
   "cell_type": "code",
   "execution_count": 83,
   "metadata": {},
   "outputs": [],
   "source": [
    "class Test:\n",
    "    def __init__(self,name,age):\n",
    "        self.name = name\n",
    "        self.age = age\n",
    "    @staticmethod\n",
    "    def print_name(name):\n",
    "        print(name)\n",
    "    @classmethod\n",
    "    def create_person(cls,name,age):\n",
    "        print(\"(%s,%s)\"%(cls,name))"
   ]
  },
  {
   "cell_type": "code",
   "execution_count": 84,
   "metadata": {},
   "outputs": [
    {
     "name": "stdout",
     "output_type": "stream",
     "text": [
      "(<class '__main__.Test'>,zzl)\n"
     ]
    }
   ],
   "source": [
    "Test.create_person(\"zzl\",18)"
   ]
  },
  {
   "cell_type": "code",
   "execution_count": 85,
   "metadata": {},
   "outputs": [
    {
     "name": "stdout",
     "output_type": "stream",
     "text": [
      "blg\n"
     ]
    }
   ],
   "source": [
    "Test.print_name(\"blg\")"
   ]
  },
  {
   "cell_type": "markdown",
   "metadata": {},
   "source": [
    "* 从参数列表可以明显看出，staticmethod没有和类绑定，相当于只是写在这个类里与这个类无关的函数\n",
    "* 而类函数必须和类绑定，python中类也是一个对象"
   ]
  },
  {
   "cell_type": "markdown",
   "metadata": {},
   "source": [
    "### 抽象类"
   ]
  },
  {
   "cell_type": "code",
   "execution_count": 92,
   "metadata": {},
   "outputs": [],
   "source": [
    "from abc import ABCMeta,abstractmethod\n",
    "class pet(object,metaclass = ABCMeta):\n",
    "    @abstractmethod\n",
    "    def eat(self):\n",
    "        print(\"pet\")\n"
   ]
  },
  {
   "cell_type": "code",
   "execution_count": 93,
   "metadata": {},
   "outputs": [],
   "source": [
    "class cat(pet):\n",
    "    def eat(self):\n",
    "        print(\"cat\")\n",
    "        "
   ]
  },
  {
   "cell_type": "code",
   "execution_count": 94,
   "metadata": {},
   "outputs": [
    {
     "name": "stdout",
     "output_type": "stream",
     "text": [
      "cat\n"
     ]
    }
   ],
   "source": [
    "cat_one = cat()\n",
    "cat_one.eat()"
   ]
  },
  {
   "cell_type": "markdown",
   "metadata": {},
   "source": [
    "* python 语法上并没有抽象类\n",
    "* 通过abc模块的ABCMeta元类和abstractmethod包装器来达到抽象类的效果\n",
    "* 如果一个类中存在抽象方法那么这个类就不能够实例化（创建对象）\n",
    "* 这个类就是专门用来继承的"
   ]
  },
  {
   "cell_type": "markdown",
   "metadata": {},
   "source": [
    "## GUI"
   ]
  },
  {
   "cell_type": "markdown",
   "metadata": {},
   "source": [
    "* python默认GUI是tkinter模块，实际开发还得学学pyQt\n",
    "* 但python的GUI并不强"
   ]
  },
  {
   "cell_type": "markdown",
   "metadata": {},
   "source": [
    "### pyGame"
   ]
  },
  {
   "cell_type": "code",
   "execution_count": 98,
   "metadata": {},
   "outputs": [
    {
     "name": "stdout",
     "output_type": "stream",
     "text": [
      "pygame 1.9.6\n",
      "Hello from the pygame community. https://www.pygame.org/contribute.html\n"
     ]
    }
   ],
   "source": [
    "import pygame\n"
   ]
  },
  {
   "cell_type": "code",
   "execution_count": 99,
   "metadata": {},
   "outputs": [
    {
     "ename": "error",
     "evalue": "Couldn't set console screen info",
     "output_type": "error",
     "traceback": [
      "\u001b[0;31m---------------------------------------------------------------------------\u001b[0m",
      "\u001b[0;31merror\u001b[0m                                     Traceback (most recent call last)",
      "\u001b[0;32m<ipython-input-99-368f506e6d41>\u001b[0m in \u001b[0;36m<module>\u001b[0;34m\u001b[0m\n\u001b[1;32m      1\u001b[0m \u001b[0mpygame\u001b[0m\u001b[0;34m.\u001b[0m\u001b[0minit\u001b[0m\u001b[0;34m(\u001b[0m\u001b[0;34m)\u001b[0m\u001b[0;34m\u001b[0m\u001b[0;34m\u001b[0m\u001b[0m\n\u001b[0;32m----> 2\u001b[0;31m \u001b[0mscreen\u001b[0m \u001b[0;34m=\u001b[0m \u001b[0mpygame\u001b[0m\u001b[0;34m.\u001b[0m\u001b[0mdisplay\u001b[0m\u001b[0;34m.\u001b[0m\u001b[0mset_mode\u001b[0m\u001b[0;34m(\u001b[0m\u001b[0;34m(\u001b[0m\u001b[0;36m800\u001b[0m\u001b[0;34m,\u001b[0m\u001b[0;36m600\u001b[0m\u001b[0;34m)\u001b[0m\u001b[0;34m)\u001b[0m\u001b[0;34m\u001b[0m\u001b[0;34m\u001b[0m\u001b[0m\n\u001b[0m\u001b[1;32m      3\u001b[0m \u001b[0mpygame\u001b[0m\u001b[0;34m.\u001b[0m\u001b[0mdisplay\u001b[0m\u001b[0;34m.\u001b[0m\u001b[0mset_caption\u001b[0m\u001b[0;34m(\u001b[0m\u001b[0;34m'Yes indeed'\u001b[0m\u001b[0;34m)\u001b[0m\u001b[0;34m\u001b[0m\u001b[0;34m\u001b[0m\u001b[0m\n\u001b[1;32m      4\u001b[0m \u001b[0mrunning\u001b[0m \u001b[0;34m=\u001b[0m \u001b[0;32mTrue\u001b[0m\u001b[0;34m\u001b[0m\u001b[0;34m\u001b[0m\u001b[0m\n",
      "\u001b[0;31merror\u001b[0m: Couldn't set console screen info"
     ]
    }
   ],
   "source": [
    "pygame.init()\n",
    "screen = pygame.display.set_mode((800,600))\n",
    "pygame.display.set_caption('Yes indeed')\n",
    "running = True"
   ]
  },
  {
   "cell_type": "markdown",
   "metadata": {},
   "source": [
    "……看来这个还是写到pycharm上去吧"
   ]
  },
  {
   "cell_type": "markdown",
   "metadata": {},
   "source": [
    "## 文件与异常"
   ]
  },
  {
   "cell_type": "markdown",
   "metadata": {},
   "source": [
    "### 读取文本文件"
   ]
  },
  {
   "cell_type": "code",
   "execution_count": 100,
   "metadata": {},
   "outputs": [
    {
     "name": "stdout",
     "output_type": "stream",
     "text": [
      "file Not found\n"
     ]
    }
   ],
   "source": [
    "try:\n",
    "    with open(\"aaa\",\"r+\",encoding=\"utf-9\") as f:\n",
    "        print(f.read())\n",
    "except FileNotFoundError:\n",
    "    print(\"file Not found\")\n",
    "except LookupError:\n",
    "    print(\"no such encoding\")\n",
    "except UnicodeDecodeError:\n",
    "    print(\"decoding error\")"
   ]
  },
  {
   "cell_type": "markdown",
   "metadata": {},
   "source": [
    "![](https://koyomi.oss-cn-hangzhou.aliyuncs.com/20200326112514.png)"
   ]
  },
  {
   "cell_type": "markdown",
   "metadata": {},
   "source": [
    "### 读取二进制文件(picture etc.)"
   ]
  },
  {
   "cell_type": "code",
   "execution_count": 102,
   "metadata": {},
   "outputs": [
    {
     "name": "stdout",
     "output_type": "stream",
     "text": [
      "b'ID,\\xe5\\xb9\\xb4\\xe9\\xbe\\x84,\\xe6\\x9c\\x89\\xe5\\xb7\\xa5\\xe4\\xbd\\x9c,\\xe6\\x9c\\x89\\xe8\\x87\\xaa\\xe5\\xb7\\xb1\\xe7\\x9a\\x84\\xe6\\x88\\xbf\\xe5\\xad\\x90,\\xe4\\xbf\\xa1\\xe8\\xb4\\xb7\\xe6\\x83\\x85\\xe5\\x86\\xb5,\\xe7\\xb1\\xbb\\xe5\\x88\\xab\\r1,\\xe9\\x9d\\x92\\xe5\\xb9\\xb4,\\xe5\\x90\\xa6,\\xe5\\x90\\xa6,\\xe4\\xb8\\x80\\xe8\\x88\\xac,\\xe5\\x90\\xa6\\r2,\\xe9\\x9d\\x92\\xe5\\xb9\\xb4,\\xe5\\x90\\xa6,\\xe5\\x90\\xa6,\\xe5\\xa5\\xbd,\\xe5\\x90\\xa6\\r3,\\xe9\\x9d\\x92\\xe5\\xb9\\xb4,\\xe6\\x98\\xaf,\\xe5\\x90\\xa6,\\xe5\\xa5\\xbd,\\xe6\\x98\\xaf\\r4,\\xe9\\x9d\\x92\\xe5\\xb9\\xb4,\\xe6\\x98\\xaf,\\xe6\\x98\\xaf,\\xe4\\xb8\\x80\\xe8\\x88\\xac,\\xe6\\x98\\xaf\\r5,\\xe9\\x9d\\x92\\xe5\\xb9\\xb4,\\xe5\\x90\\xa6,\\xe5\\x90\\xa6,\\xe4\\xb8\\x80\\xe8\\x88\\xac,\\xe5\\x90\\xa6\\r6,\\xe4\\xb8\\xad\\xe5\\xb9\\xb4,\\xe5\\x90\\xa6,\\xe5\\x90\\xa6,\\xe4\\xb8\\x80\\xe8\\x88\\xac,\\xe5\\x90\\xa6\\r7,\\xe4\\xb8\\xad\\xe5\\xb9\\xb4,\\xe5\\x90\\xa6,\\xe5\\x90\\xa6,\\xe5\\xa5\\xbd,\\xe5\\x90\\xa6\\r8,\\xe4\\xb8\\xad\\xe5\\xb9\\xb4,\\xe6\\x98\\xaf,\\xe6\\x98\\xaf,\\xe5\\xa5\\xbd,\\xe6\\x98\\xaf\\r9,\\xe4\\xb8\\xad\\xe5\\xb9\\xb4,\\xe5\\x90\\xa6,\\xe6\\x98\\xaf,\\xe9\\x9d\\x9e\\xe5\\xb8\\xb8\\xe5\\xa5\\xbd,\\xe6\\x98\\xaf\\r10,\\xe4\\xb8\\xad\\xe5\\xb9\\xb4,\\xe5\\x90\\xa6,\\xe6\\x98\\xaf,\\xe9\\x9d\\x9e\\xe5\\xb8\\xb8\\xe5\\xa5\\xbd,\\xe6\\x98\\xaf\\r11,\\xe8\\x80\\x81\\xe5\\xb9\\xb4,\\xe5\\x90\\xa6,\\xe6\\x98\\xaf,\\xe9\\x9d\\x9e\\xe5\\xb8\\xb8\\xe5\\xa5\\xbd,\\xe6\\x98\\xaf\\r12,\\xe8\\x80\\x81\\xe5\\xb9\\xb4,\\xe5\\x90\\xa6,\\xe6\\x98\\xaf,\\xe5\\xa5\\xbd,\\xe6\\x98\\xaf\\r13,\\xe8\\x80\\x81\\xe5\\xb9\\xb4,\\xe6\\x98\\xaf,\\xe5\\x90\\xa6,\\xe5\\xa5\\xbd,\\xe6\\x98\\xaf\\r14,\\xe8\\x80\\x81\\xe5\\xb9\\xb4,\\xe6\\x98\\xaf,\\xe5\\x90\\xa6,\\xe9\\x9d\\x9e\\xe5\\xb8\\xb8\\xe5\\xa5\\xbd,\\xe6\\x98\\xaf\\r15,\\xe8\\x80\\x81\\xe5\\xb9\\xb4,\\xe5\\x90\\xa6,\\xe5\\x90\\xa6,\\xe4\\xb8\\x80\\xe8\\x88\\xac,\\xe5\\x90\\xa6'\n"
     ]
    }
   ],
   "source": [
    "with open(\"../5-1.csv\",\"rb\") as f:\n",
    "    print(f.read())"
   ]
  },
  {
   "cell_type": "markdown",
   "metadata": {},
   "source": [
    "### 读取JSON文件\n",
    "* JSON和python内类型的对应关系\n",
    "![](https://koyomi.oss-cn-hangzhou.aliyuncs.com/20200326112958.png)"
   ]
  },
  {
   "cell_type": "code",
   "execution_count": 103,
   "metadata": {},
   "outputs": [],
   "source": [
    "import json\n",
    "dic = dict(name=\"zzl\",game=\"nioh2\")\n",
    "with open(\"data.json\",\"w\",encoding=\"utf-8\") as f:\n",
    "    json.dump(dic,f)"
   ]
  },
  {
   "cell_type": "code",
   "execution_count": 105,
   "metadata": {},
   "outputs": [],
   "source": [
    "arr = [1,2,3,4,5]\n",
    "with open(\"data.json\",\"w\",encoding=\"utf-8\") as f:\n",
    "    json.dump(arr,f)"
   ]
  },
  {
   "cell_type": "code",
   "execution_count": 106,
   "metadata": {},
   "outputs": [],
   "source": [
    "tup = [\"zzl\",\"nioh\",21]\n",
    "with open(\"data.json\",\"w\",encoding=\"utf-8\") as f:\n",
    "    json.dump(tup,f)"
   ]
  },
  {
   "cell_type": "code",
   "execution_count": 109,
   "metadata": {},
   "outputs": [
    {
     "ename": "TypeError",
     "evalue": "Object of type set is not JSON serializable",
     "output_type": "error",
     "traceback": [
      "\u001b[0;31m---------------------------------------------------------------------------\u001b[0m",
      "\u001b[0;31mTypeError\u001b[0m                                 Traceback (most recent call last)",
      "\u001b[0;32m<ipython-input-109-6419b165af7c>\u001b[0m in \u001b[0;36m<module>\u001b[0;34m\u001b[0m\n\u001b[1;32m      1\u001b[0m \u001b[0mse\u001b[0m \u001b[0;34m=\u001b[0m \u001b[0;34m{\u001b[0m\u001b[0;36m1\u001b[0m\u001b[0;34m,\u001b[0m\u001b[0;36m2\u001b[0m\u001b[0;34m,\u001b[0m\u001b[0;36m3\u001b[0m\u001b[0;34m,\u001b[0m\u001b[0;36m6\u001b[0m\u001b[0;34m,\u001b[0m\u001b[0;36m7\u001b[0m\u001b[0;34m}\u001b[0m\u001b[0;34m\u001b[0m\u001b[0;34m\u001b[0m\u001b[0m\n\u001b[1;32m      2\u001b[0m \u001b[0;32mwith\u001b[0m \u001b[0mopen\u001b[0m\u001b[0;34m(\u001b[0m\u001b[0;34m\"data.json\"\u001b[0m\u001b[0;34m,\u001b[0m\u001b[0;34m\"w\"\u001b[0m\u001b[0;34m,\u001b[0m\u001b[0mencoding\u001b[0m\u001b[0;34m=\u001b[0m\u001b[0;34m\"utf-8\"\u001b[0m\u001b[0;34m)\u001b[0m \u001b[0;32mas\u001b[0m \u001b[0mf\u001b[0m\u001b[0;34m:\u001b[0m\u001b[0;34m\u001b[0m\u001b[0;34m\u001b[0m\u001b[0m\n\u001b[0;32m----> 3\u001b[0;31m     \u001b[0mjson\u001b[0m\u001b[0;34m.\u001b[0m\u001b[0mdump\u001b[0m\u001b[0;34m(\u001b[0m\u001b[0mse\u001b[0m\u001b[0;34m,\u001b[0m\u001b[0mf\u001b[0m\u001b[0;34m)\u001b[0m\u001b[0;34m\u001b[0m\u001b[0;34m\u001b[0m\u001b[0m\n\u001b[0m",
      "\u001b[0;32m~/anaconda3/lib/python3.7/json/__init__.py\u001b[0m in \u001b[0;36mdump\u001b[0;34m(obj, fp, skipkeys, ensure_ascii, check_circular, allow_nan, cls, indent, separators, default, sort_keys, **kw)\u001b[0m\n\u001b[1;32m    177\u001b[0m     \u001b[0;31m# could accelerate with writelines in some versions of Python, at\u001b[0m\u001b[0;34m\u001b[0m\u001b[0;34m\u001b[0m\u001b[0;34m\u001b[0m\u001b[0m\n\u001b[1;32m    178\u001b[0m     \u001b[0;31m# a debuggability cost\u001b[0m\u001b[0;34m\u001b[0m\u001b[0;34m\u001b[0m\u001b[0;34m\u001b[0m\u001b[0m\n\u001b[0;32m--> 179\u001b[0;31m     \u001b[0;32mfor\u001b[0m \u001b[0mchunk\u001b[0m \u001b[0;32min\u001b[0m \u001b[0miterable\u001b[0m\u001b[0;34m:\u001b[0m\u001b[0;34m\u001b[0m\u001b[0;34m\u001b[0m\u001b[0m\n\u001b[0m\u001b[1;32m    180\u001b[0m         \u001b[0mfp\u001b[0m\u001b[0;34m.\u001b[0m\u001b[0mwrite\u001b[0m\u001b[0;34m(\u001b[0m\u001b[0mchunk\u001b[0m\u001b[0;34m)\u001b[0m\u001b[0;34m\u001b[0m\u001b[0;34m\u001b[0m\u001b[0m\n\u001b[1;32m    181\u001b[0m \u001b[0;34m\u001b[0m\u001b[0m\n",
      "\u001b[0;32m~/anaconda3/lib/python3.7/json/encoder.py\u001b[0m in \u001b[0;36m_iterencode\u001b[0;34m(o, _current_indent_level)\u001b[0m\n\u001b[1;32m    436\u001b[0m                     \u001b[0;32mraise\u001b[0m \u001b[0mValueError\u001b[0m\u001b[0;34m(\u001b[0m\u001b[0;34m\"Circular reference detected\"\u001b[0m\u001b[0;34m)\u001b[0m\u001b[0;34m\u001b[0m\u001b[0;34m\u001b[0m\u001b[0m\n\u001b[1;32m    437\u001b[0m                 \u001b[0mmarkers\u001b[0m\u001b[0;34m[\u001b[0m\u001b[0mmarkerid\u001b[0m\u001b[0;34m]\u001b[0m \u001b[0;34m=\u001b[0m \u001b[0mo\u001b[0m\u001b[0;34m\u001b[0m\u001b[0;34m\u001b[0m\u001b[0m\n\u001b[0;32m--> 438\u001b[0;31m             \u001b[0mo\u001b[0m \u001b[0;34m=\u001b[0m \u001b[0m_default\u001b[0m\u001b[0;34m(\u001b[0m\u001b[0mo\u001b[0m\u001b[0;34m)\u001b[0m\u001b[0;34m\u001b[0m\u001b[0;34m\u001b[0m\u001b[0m\n\u001b[0m\u001b[1;32m    439\u001b[0m             \u001b[0;32myield\u001b[0m \u001b[0;32mfrom\u001b[0m \u001b[0m_iterencode\u001b[0m\u001b[0;34m(\u001b[0m\u001b[0mo\u001b[0m\u001b[0;34m,\u001b[0m \u001b[0m_current_indent_level\u001b[0m\u001b[0;34m)\u001b[0m\u001b[0;34m\u001b[0m\u001b[0;34m\u001b[0m\u001b[0m\n\u001b[1;32m    440\u001b[0m             \u001b[0;32mif\u001b[0m \u001b[0mmarkers\u001b[0m \u001b[0;32mis\u001b[0m \u001b[0;32mnot\u001b[0m \u001b[0;32mNone\u001b[0m\u001b[0;34m:\u001b[0m\u001b[0;34m\u001b[0m\u001b[0;34m\u001b[0m\u001b[0m\n",
      "\u001b[0;32m~/anaconda3/lib/python3.7/json/encoder.py\u001b[0m in \u001b[0;36mdefault\u001b[0;34m(self, o)\u001b[0m\n\u001b[1;32m    177\u001b[0m \u001b[0;34m\u001b[0m\u001b[0m\n\u001b[1;32m    178\u001b[0m         \"\"\"\n\u001b[0;32m--> 179\u001b[0;31m         raise TypeError(f'Object of type {o.__class__.__name__} '\n\u001b[0m\u001b[1;32m    180\u001b[0m                         f'is not JSON serializable')\n\u001b[1;32m    181\u001b[0m \u001b[0;34m\u001b[0m\u001b[0m\n",
      "\u001b[0;31mTypeError\u001b[0m: Object of type set is not JSON serializable"
     ]
    }
   ],
   "source": [
    "se = {1,2,3,6,7}\n",
    "with open(\"data.json\",\"w\",encoding=\"utf-8\") as f:\n",
    "    json.dump(se,f)"
   ]
  },
  {
   "cell_type": "markdown",
   "metadata": {},
   "source": [
    "对先前讲的几个数据结构，set是不可序列化的，其他都是可以的"
   ]
  },
  {
   "cell_type": "markdown",
   "metadata": {},
   "source": [
    "序列化（serialization）在计算机科学的数据处理中，是指将数据结构或对象状态转换为可以存储或传输的形式，这样在需要的时候能够恢复到原先的状态，而且通过序列化的数据重新获取字节时，可以利用这些字节来产生原始对象的副本（拷贝）。与这个过程相反的动作，即从一系列字节中提取数据结构的操作，就是反序列化（deserialization）\n",
    "在Python中要实现序列化和反序列化除了使用json模块之外，还可以使用pickle和shelve模块，但是这两个模块是使用特有的序列化协议来序列化数据，因此序列化后的数据只能被Python识别。"
   ]
  },
  {
   "cell_type": "markdown",
   "metadata": {},
   "source": [
    "## 并发编程"
   ]
  },
  {
   "cell_type": "markdown",
   "metadata": {},
   "source": [
    "### 多进程"
   ]
  },
  {
   "cell_type": "markdown",
   "metadata": {},
   "source": [
    "进程有自己独立的内存空间，因此必须通过进程间通信机制（IPC，Inter-Process Communication）来实现数据共享，具体的方式包括*管道*、*信号*、*套接字*、*共享内存区*等"
   ]
  },
  {
   "cell_type": "markdown",
   "metadata": {},
   "source": [
    "* python 中使用multiprocessing模块"
   ]
  },
  {
   "cell_type": "code",
   "execution_count": 116,
   "metadata": {},
   "outputs": [
    {
     "name": "stderr",
     "output_type": "stream",
     "text": [
      "Process Process-7:\n",
      "Process Process-8:\n",
      "Traceback (most recent call last):\n",
      "Traceback (most recent call last):\n",
      "  File \"/root/anaconda3/lib/python3.7/multiprocessing/process.py\", line 297, in _bootstrap\n",
      "    self.run()\n",
      "  File \"/root/anaconda3/lib/python3.7/multiprocessing/process.py\", line 297, in _bootstrap\n",
      "    self.run()\n",
      "  File \"/root/anaconda3/lib/python3.7/multiprocessing/process.py\", line 99, in run\n",
      "    self._target(*self._args, **self._kwargs)\n",
      "  File \"/root/anaconda3/lib/python3.7/multiprocessing/process.py\", line 99, in run\n",
      "    self._target(*self._args, **self._kwargs)\n",
      "  File \"<ipython-input-116-72b252060f93>\", line 5, in addi\n",
      "    i = i + 1\n",
      "  File \"<ipython-input-116-72b252060f93>\", line 5, in addi\n",
      "    i = i + 1\n",
      "UnboundLocalError: local variable 'i' referenced before assignment\n",
      "UnboundLocalError: local variable 'i' referenced before assignment\n"
     ]
    }
   ],
   "source": [
    "from multiprocessing import Process\n",
    "i = 0\n",
    "def addi():\n",
    "    for j in range(100):\n",
    "        i = i + 1\n",
    "t1 = Process(target=addi,args=())\n",
    "t1.start()\n",
    "t2 = Process(target=addi,args=())\n",
    "t2.start()\n",
    "t1.join()\n",
    "t2.join()"
   ]
  },
  {
   "cell_type": "markdown",
   "metadata": {},
   "source": [
    "在函数内部对变量赋值进行修改后，该变量就会被Python解释器认为是局部变量而非全局变量，因为i这个局部变量还没有定义，自然就会抛出这样的错误。"
   ]
  },
  {
   "cell_type": "code",
   "execution_count": 117,
   "metadata": {},
   "outputs": [],
   "source": [
    "def addi():\n",
    "    global i\n",
    "    for j in range(100):\n",
    "        i = i + 1\n",
    "i = 0\n",
    "t1 = Process(target=addi,args=())\n",
    "t1.start()\n",
    "t2 = Process(target=addi,args=())\n",
    "t2.start()\n",
    "t1.join()\n",
    "t2.join()"
   ]
  },
  {
   "cell_type": "code",
   "execution_count": 118,
   "metadata": {},
   "outputs": [
    {
     "data": {
      "text/plain": [
       "0"
      ]
     },
     "execution_count": 118,
     "metadata": {},
     "output_type": "execute_result"
    }
   ],
   "source": [
    "i"
   ]
  },
  {
   "cell_type": "markdown",
   "metadata": {},
   "source": [
    "这里是0，因为当我们在程序中创建进程的时候，子进程复制了父进程及其所有的数据结构，每个子进程有自己独立的内存空间，这也就意味着两个子进程中各有i变量,而最终打印的是父进程的i，当然是0"
   ]
  },
  {
   "cell_type": "code",
   "execution_count": 119,
   "metadata": {},
   "outputs": [],
   "source": [
    "def addi():\n",
    "    global i\n",
    "    for j in range(100):\n",
    "        i = i + 1\n",
    "i = 0\n",
    "addi()\n"
   ]
  },
  {
   "cell_type": "code",
   "execution_count": 120,
   "metadata": {},
   "outputs": [
    {
     "data": {
      "text/plain": [
       "100"
      ]
     },
     "execution_count": 120,
     "metadata": {},
     "output_type": "execute_result"
    }
   ],
   "source": [
    "i"
   ]
  },
  {
   "cell_type": "code",
   "execution_count": 126,
   "metadata": {},
   "outputs": [
    {
     "name": "stdout",
     "output_type": "stream",
     "text": [
      "28084\n",
      "28085\n",
      "28084\n",
      "28085\n",
      "28084\n",
      "28085\n",
      "28084\n",
      "28085\n",
      "28084\n",
      "28085\n",
      "28084\n",
      "28085\n",
      "28084\n",
      "28085\n",
      "28084\n",
      "28085\n",
      "28084\n",
      "28085\n",
      "28084\n",
      "28085\n",
      "28084\n",
      "28085\n",
      "28084\n",
      "28085\n",
      "28084\n",
      "28085\n",
      "28084\n",
      "28085\n",
      "28084\n",
      "28085\n",
      "28084\n",
      "28085\n",
      "28084\n",
      "28085\n",
      "28084\n",
      "28085\n",
      "28084\n",
      "28085\n",
      "28084\n",
      "28085\n",
      "28084\n",
      "28085\n",
      "28084\n",
      "28085\n",
      "28084\n",
      "28085\n",
      "28084\n",
      "28085\n",
      "28084\n",
      "28085\n",
      "28084\n",
      "28085\n",
      "28084\n",
      "28085\n",
      "28084\n",
      "28085\n",
      "28084\n",
      "28085\n",
      "28084\n",
      "28085\n",
      "28084\n",
      "28085\n",
      "28084\n",
      "28085\n",
      "28084\n",
      "28085\n",
      "28084\n",
      "28085\n",
      "28084\n",
      "28085\n",
      "28084\n",
      "28085\n",
      "28084\n",
      "28085\n",
      "28084\n",
      "28085\n",
      "28084\n",
      "28085\n",
      "28084\n",
      "28085\n",
      "28084\n",
      "28085\n",
      "28084\n",
      "28085\n",
      "28084\n",
      "28085\n",
      "28084\n",
      "28085\n",
      "28084\n",
      "28085\n",
      "28084\n",
      "28085\n",
      "28084\n",
      "28085\n",
      "28084\n",
      "28085\n",
      "28084\n",
      "28085\n",
      "28084\n",
      "28085\n",
      "28084\n",
      "28085\n",
      "28084\n",
      "28085\n",
      "28084\n",
      "28085\n",
      "28084\n",
      "28085\n",
      "28084\n",
      "28085\n",
      "28084\n",
      "28085\n",
      "28084\n",
      "28085\n",
      "28084\n",
      "28085\n",
      "28084\n",
      "28085\n",
      "28084\n",
      "28085\n",
      "28084\n",
      "28085\n",
      "28084\n",
      "28085\n",
      "28084\n",
      "28085\n",
      "28084\n",
      "28085\n",
      "28084\n",
      "28085\n",
      "28084\n",
      "28085\n",
      "28084\n",
      "28085\n",
      "28084\n",
      "28085\n",
      "28084\n",
      "28085\n",
      "28084\n",
      "28085\n",
      "28084\n",
      "28085\n",
      "28084\n",
      "28085\n",
      "28084\n",
      "28085\n",
      "28084\n",
      "28085\n",
      "28084\n",
      "28085\n",
      "28084\n",
      "28085\n",
      "28084\n",
      "28085\n",
      "28084\n",
      "28085\n",
      "28084\n",
      "28085\n",
      "28084\n",
      "28085\n",
      "28084\n",
      "28085\n",
      "28084\n",
      "28085\n",
      "28084\n",
      "28085\n",
      "28084\n",
      "28085\n",
      "28084\n",
      "28085\n",
      "28084\n",
      "28085\n",
      "28084\n",
      "28085\n",
      "28084\n",
      "28085\n",
      "28084\n",
      "28085\n",
      "28084\n",
      "28085\n",
      "28084\n",
      "28085\n",
      "28084\n",
      "28085\n",
      "28084\n",
      "28085\n",
      "28084\n",
      "28085\n",
      "28084\n",
      "28085\n",
      "28084\n",
      "28085\n",
      "28084\n",
      "28085\n",
      "28084\n",
      "28085\n",
      "28084\n",
      "28085\n",
      "28084\n",
      "28085\n",
      "100\n",
      "100\n"
     ]
    }
   ],
   "source": [
    "from os import getpid\n",
    "def addi():\n",
    "    global i\n",
    "    for j in range(100):\n",
    "        print(getpid())\n",
    "        i = i + 1\n",
    "    print(i)\n",
    "i = 0\n",
    "t1 = Process(target=addi,args=())\n",
    "t1.start()\n",
    "t2 = Process(target=addi,args=())\n",
    "t2.start()\n",
    "t1.join()\n",
    "t2.join()"
   ]
  },
  {
   "cell_type": "markdown",
   "metadata": {},
   "source": [
    "#### 进程间通讯"
   ]
  },
  {
   "cell_type": "markdown",
   "metadata": {},
   "source": [
    "* 要解决i = 0这个问题比较简单的办法是使用multiprocessing模块中的Queue类，它是可以被多个进程共享的队列，底层是通过管道和信号量（semaphore）机制来实现的\n",
    "* Process 类适合简单的进程创建，如需资源共享可以结合 multiprocessing.Queue 使用；如果想要控制进程数量，则建议使用进程池 Pool 类\n",
    "* 在进程之间通信的一种简单方法是使用 Queue来传递消息。任何**可以通过 pickle 序列化的对象**都可以传递给 Queue"
   ]
  },
  {
   "cell_type": "code",
   "execution_count": 128,
   "metadata": {},
   "outputs": [
    {
     "name": "stdout",
     "output_type": "stream",
     "text": [
      "100\n",
      "100\n"
     ]
    }
   ],
   "source": [
    "from multiprocessing import Queue\n",
    "def addi(q):\n",
    "    global i\n",
    "    for j in range(100):\n",
    "        i = i + 1\n",
    "    print(i)\n",
    "    \n",
    "    \n",
    "queue = Queue()\n",
    "i = 0\n",
    "t1 = Process(target=addi,args=(queue,))\n",
    "t1.start()\n",
    "t1.join()\n",
    "i = queue.get(i)\n",
    "t2.join()"
   ]
  },
  {
   "cell_type": "code",
   "execution_count": 129,
   "metadata": {},
   "outputs": [
    {
     "data": {
      "text/plain": [
       "0"
      ]
     },
     "execution_count": 129,
     "metadata": {},
     "output_type": "execute_result"
    }
   ],
   "source": [
    "i"
   ]
  }
 ],
 "metadata": {
  "kernelspec": {
   "display_name": "Python 3",
   "language": "python",
   "name": "python3"
  },
  "language_info": {
   "codemirror_mode": {
    "name": "ipython",
    "version": 3
   },
   "file_extension": ".py",
   "mimetype": "text/x-python",
   "name": "python",
   "nbconvert_exporter": "python",
   "pygments_lexer": "ipython3",
   "version": "3.7.6"
  },
  "toc": {
   "base_numbering": 1,
   "nav_menu": {},
   "number_sections": true,
   "sideBar": true,
   "skip_h1_title": false,
   "title_cell": "Table of Contents",
   "title_sidebar": "Contents",
   "toc_cell": false,
   "toc_position": {},
   "toc_section_display": true,
   "toc_window_display": true
  }
 },
 "nbformat": 4,
 "nbformat_minor": 2
}
