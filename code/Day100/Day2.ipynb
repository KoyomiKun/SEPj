{
 "cells": [
  {
   "cell_type": "markdown",
   "metadata": {},
   "source": [
    "# Day2"
   ]
  },
  {
   "cell_type": "markdown",
   "metadata": {},
   "source": [
    "## 堆排序"
   ]
  },
  {
   "cell_type": "code",
   "execution_count": 1,
   "metadata": {},
   "outputs": [],
   "source": [
    "import heapq\n",
    "ints = [3,6,4,1,5,7,8,3]\n",
    "dics = [{\"zzl\":21,\"dick\":73},{\"wl\":24,\"dick\":99}]"
   ]
  },
  {
   "cell_type": "code",
   "execution_count": 2,
   "metadata": {},
   "outputs": [
    {
     "data": {
      "text/plain": [
       "[8, 7, 6]"
      ]
     },
     "execution_count": 2,
     "metadata": {},
     "output_type": "execute_result"
    }
   ],
   "source": [
    "heapq.nlargest(3,ints)"
   ]
  },
  {
   "cell_type": "code",
   "execution_count": 3,
   "metadata": {},
   "outputs": [
    {
     "data": {
      "text/plain": [
       "[1, 3, 3]"
      ]
     },
     "execution_count": 3,
     "metadata": {},
     "output_type": "execute_result"
    }
   ],
   "source": [
    "heapq.nsmallest(3,ints)"
   ]
  },
  {
   "cell_type": "code",
   "execution_count": 5,
   "metadata": {},
   "outputs": [
    {
     "data": {
      "text/plain": [
       "[{'wl': 24, 'dick': 99}]"
      ]
     },
     "execution_count": 5,
     "metadata": {},
     "output_type": "execute_result"
    }
   ],
   "source": [
    "heapq.nlargest(1,dics,key=lambda x:x['dick'])"
   ]
  },
  {
   "cell_type": "code",
   "execution_count": 6,
   "metadata": {},
   "outputs": [
    {
     "data": {
      "text/plain": [
       "[{'wl': 24, 'dick': 99}, {'zzl': 21, 'dick': 73}]"
      ]
     },
     "execution_count": 6,
     "metadata": {},
     "output_type": "execute_result"
    }
   ],
   "source": [
    "heapq.nlargest(3,dics,key=lambda x:x['dick'])"
   ]
  },
  {
   "cell_type": "markdown",
   "metadata": {},
   "source": [
    "## 迭代工具"
   ]
  },
  {
   "cell_type": "code",
   "execution_count": 11,
   "metadata": {},
   "outputs": [],
   "source": [
    "import itertools\n",
    "# 元素全排列\n",
    "tool = itertools.permutations(\"ABCD\")"
   ]
  },
  {
   "cell_type": "code",
   "execution_count": 12,
   "metadata": {},
   "outputs": [
    {
     "name": "stdout",
     "output_type": "stream",
     "text": [
      "('A', 'B', 'C', 'D')\n",
      "('A', 'B', 'D', 'C')\n",
      "('A', 'C', 'B', 'D')\n",
      "('A', 'C', 'D', 'B')\n",
      "('A', 'D', 'B', 'C')\n",
      "('A', 'D', 'C', 'B')\n",
      "('B', 'A', 'C', 'D')\n",
      "('B', 'A', 'D', 'C')\n",
      "('B', 'C', 'A', 'D')\n",
      "('B', 'C', 'D', 'A')\n",
      "('B', 'D', 'A', 'C')\n",
      "('B', 'D', 'C', 'A')\n",
      "('C', 'A', 'B', 'D')\n",
      "('C', 'A', 'D', 'B')\n",
      "('C', 'B', 'A', 'D')\n",
      "('C', 'B', 'D', 'A')\n",
      "('C', 'D', 'A', 'B')\n",
      "('C', 'D', 'B', 'A')\n",
      "('D', 'A', 'B', 'C')\n",
      "('D', 'A', 'C', 'B')\n",
      "('D', 'B', 'A', 'C')\n",
      "('D', 'B', 'C', 'A')\n",
      "('D', 'C', 'A', 'B')\n",
      "('D', 'C', 'B', 'A')\n"
     ]
    }
   ],
   "source": [
    "for x in tool:\n",
    "    print(x)"
   ]
  },
  {
   "cell_type": "markdown",
   "metadata": {},
   "source": [
    "$C^M_N$"
   ]
  },
  {
   "cell_type": "code",
   "execution_count": 13,
   "metadata": {},
   "outputs": [
    {
     "name": "stdout",
     "output_type": "stream",
     "text": [
      "(1, 3, 2, 6)\n",
      "(1, 3, 2, 4)\n",
      "(1, 3, 6, 4)\n",
      "(1, 2, 6, 4)\n",
      "(3, 2, 6, 4)\n"
     ]
    }
   ],
   "source": [
    "# 5选4\n",
    "for x in itertools.combinations([1,3,2,6,4],4):\n",
    "    print(x)"
   ]
  },
  {
   "cell_type": "code",
   "execution_count": 14,
   "metadata": {},
   "outputs": [
    {
     "name": "stdout",
     "output_type": "stream",
     "text": [
      "(1, 2)\n",
      "(1, 4)\n",
      "(3, 2)\n",
      "(3, 4)\n"
     ]
    }
   ],
   "source": [
    "# 笛卡尔积\n",
    "for x in itertools.product([1,3],[2,4]):\n",
    "    print(x)"
   ]
  },
  {
   "cell_type": "markdown",
   "metadata": {},
   "source": [
    "## 集合工具"
   ]
  },
  {
   "cell_type": "code",
   "execution_count": 15,
   "metadata": {},
   "outputs": [
    {
     "name": "stdout",
     "output_type": "stream",
     "text": [
      "Counter({6: 4, 3: 3, 1: 2, 2: 2, 4: 1, 5: 1, 7: 1, 8: 1})\n"
     ]
    }
   ],
   "source": [
    "# 元素计数器\n",
    "import collections\n",
    "ints = [1,1,2,2,3,3,3,4,5,6,6,6,6,7,8]\n",
    "print(collections.Counter(ints))"
   ]
  },
  {
   "cell_type": "code",
   "execution_count": 16,
   "metadata": {},
   "outputs": [
    {
     "data": {
      "text/plain": [
       "999"
      ]
     },
     "execution_count": 16,
     "metadata": {},
     "output_type": "execute_result"
    }
   ],
   "source": [
    "# 命名元组（简单类的实现）\n",
    "Person = collections.namedtuple(\"Person\",[\"name\",\"age\",\"size\"])\n",
    "zzl = Person(name = \"zzl\",age = \"21\",size = 999)\n",
    "zzl.size"
   ]
  },
  {
   "cell_type": "code",
   "execution_count": 17,
   "metadata": {},
   "outputs": [
    {
     "data": {
      "text/plain": [
       "'29'"
      ]
     },
     "execution_count": 17,
     "metadata": {},
     "output_type": "execute_result"
    }
   ],
   "source": [
    "wdc = Person._make([\"ddd\",\"29\",213])\n",
    "wdc.age"
   ]
  },
  {
   "cell_type": "code",
   "execution_count": 18,
   "metadata": {},
   "outputs": [
    {
     "data": {
      "text/plain": [
       "Person(name='zzl', age=213, size=999)"
      ]
     },
     "execution_count": 18,
     "metadata": {},
     "output_type": "execute_result"
    }
   ],
   "source": [
    "zzl._replace(age = 213)"
   ]
  },
  {
   "cell_type": "code",
   "execution_count": 19,
   "metadata": {},
   "outputs": [
    {
     "data": {
      "text/plain": [
       "OrderedDict([('name', 'zzl'), ('age', '21'), ('size', 999)])"
      ]
     },
     "execution_count": 19,
     "metadata": {},
     "output_type": "execute_result"
    }
   ],
   "source": [
    "zzl._asdict()"
   ]
  },
  {
   "cell_type": "code",
   "execution_count": 28,
   "metadata": {},
   "outputs": [
    {
     "data": {
      "text/plain": [
       "defaultdict(None, {})"
      ]
     },
     "execution_count": 28,
     "metadata": {},
     "output_type": "execute_result"
    }
   ],
   "source": [
    "# default dict\n",
    "# 初始化一个空字典，比 = {}更高效\n",
    "collections.defaultdict()"
   ]
  },
  {
   "cell_type": "markdown",
   "metadata": {},
   "source": [
    "## 函数式编程"
   ]
  },
  {
   "cell_type": "code",
   "execution_count": 32,
   "metadata": {},
   "outputs": [],
   "source": [
    "# filter过滤器\n",
    "def is_even(num):\n",
    "    if num % 2 == 1:\n",
    "        return False\n",
    "    return True\n",
    "f = filter(is_even,[1,2,6,5,3,76])"
   ]
  },
  {
   "cell_type": "code",
   "execution_count": 33,
   "metadata": {},
   "outputs": [
    {
     "name": "stdout",
     "output_type": "stream",
     "text": [
      "2\n",
      "6\n",
      "76\n"
     ]
    }
   ],
   "source": [
    "for i in f:\n",
    "    print(i)"
   ]
  },
  {
   "cell_type": "code",
   "execution_count": 34,
   "metadata": {},
   "outputs": [],
   "source": [
    "# map 映射器\n",
    "def double(num):\n",
    "    return num*2\n",
    "m = map(double,[3,1,6,0,1,0,1,7,7,4])"
   ]
  },
  {
   "cell_type": "code",
   "execution_count": 35,
   "metadata": {},
   "outputs": [
    {
     "name": "stdout",
     "output_type": "stream",
     "text": [
      "6\n",
      "2\n",
      "12\n",
      "0\n",
      "2\n",
      "0\n",
      "2\n",
      "14\n",
      "14\n",
      "8\n"
     ]
    }
   ],
   "source": [
    "for i in m:\n",
    "    print(i)"
   ]
  },
  {
   "cell_type": "code",
   "execution_count": 36,
   "metadata": {},
   "outputs": [],
   "source": [
    "# 配合lambda表达式\n",
    "items = list(map(lambda x: x ** 2, filter(lambda x: x % 2, range(1, 10))))"
   ]
  },
  {
   "cell_type": "code",
   "execution_count": 38,
   "metadata": {},
   "outputs": [
    {
     "name": "stdout",
     "output_type": "stream",
     "text": [
      "1\n",
      "9\n",
      "25\n",
      "49\n",
      "81\n"
     ]
    }
   ],
   "source": [
    "for i in items:\n",
    "    print(i)"
   ]
  },
  {
   "cell_type": "code",
   "execution_count": 40,
   "metadata": {},
   "outputs": [],
   "source": [
    "# 函数元信息（用于方法重载，且方便阅读）\n",
    "def test(x:int,y:int):\n",
    "    print(x+y)\n",
    "\n",
    "def test(x:str,y:str):\n",
    "    print(\"{}{}\".format(x,y))\n",
    "    "
   ]
  },
  {
   "cell_type": "code",
   "execution_count": 41,
   "metadata": {},
   "outputs": [
    {
     "name": "stdout",
     "output_type": "stream",
     "text": [
      "12\n"
     ]
    }
   ],
   "source": [
    "test(1,2)"
   ]
  },
  {
   "cell_type": "code",
   "execution_count": 42,
   "metadata": {},
   "outputs": [
    {
     "name": "stdout",
     "output_type": "stream",
     "text": [
      "ggpython\n"
     ]
    }
   ],
   "source": [
    "test(\"gg\",\"python\")"
   ]
  },
  {
   "cell_type": "markdown",
   "metadata": {},
   "source": [
    "* 装饰器本质是一个函数。在python中，函数可以当作变量传递。\n",
    "* 它经常用于有切面需求的场景，比如：*插入日志、性能测试、事务处理、缓存、权限校验*等场景，装饰器是解决这类问题的绝佳设计。\n",
    "* 装饰器的作用就是为已经存在的对象添加额外的功能"
   ]
  },
  {
   "cell_type": "code",
   "execution_count": 51,
   "metadata": {},
   "outputs": [
    {
     "name": "stderr",
     "output_type": "stream",
     "text": [
      "WARNING:root:foo is running\n"
     ]
    },
    {
     "name": "stdout",
     "output_type": "stream",
     "text": [
      "i am fool\n"
     ]
    }
   ],
   "source": [
    "import logging\n",
    "def use_logging(func):\n",
    "    def wrapper():\n",
    "        logging.warning(\"{} is running\".format(func.__name__))\n",
    "        return func()\n",
    "    return wrapper\n",
    "\n",
    "def foo():\n",
    "    print(\"i am fool\")\n",
    "\n",
    "fo = use_logging(foo)\n",
    "fo()"
   ]
  },
  {
   "cell_type": "markdown",
   "metadata": {},
   "source": [
    "* 相当于fo的使用者要调用foo函数，但在此之前他想记录日志，所以直接把foo当成参数传入，得到要真正执行的函数\n",
    "* 相当于spring中的IOP"
   ]
  },
  {
   "cell_type": "markdown",
   "metadata": {},
   "source": [
    "* @ 语法 foo() 函数不需要做任何修改，只需在定义的地方加上装饰器，调用的时候还是和以前一样"
   ]
  },
  {
   "cell_type": "code",
   "execution_count": 49,
   "metadata": {},
   "outputs": [
    {
     "name": "stderr",
     "output_type": "stream",
     "text": [
      "WARNING:root:new_foo is running\n"
     ]
    },
    {
     "name": "stdout",
     "output_type": "stream",
     "text": [
      "i am fool\n"
     ]
    }
   ],
   "source": [
    "@use_logging\n",
    "def new_foo():\n",
    "    print(\"i am fool\")\n",
    "\n",
    "new_foo()"
   ]
  },
  {
   "cell_type": "markdown",
   "metadata": {},
   "source": [
    "在定义装饰器的时候是不知道被装饰的函数有几个参数的，此时需要："
   ]
  },
  {
   "cell_type": "code",
   "execution_count": 54,
   "metadata": {},
   "outputs": [
    {
     "name": "stderr",
     "output_type": "stream",
     "text": [
      "WARNING:root:funct is running\n"
     ]
    },
    {
     "name": "stdout",
     "output_type": "stream",
     "text": [
      "zzl is 32\n"
     ]
    }
   ],
   "source": [
    "def use_logging(func):\n",
    "    def wrapper(*args):\n",
    "        logging.warning(\"{} is running\".format(func.__name__))\n",
    "        return func(*args)\n",
    "    return wrapper\n",
    "\n",
    "@use_logging\n",
    "def funct(name:str,age:int):\n",
    "    print(\"{} is {}\".format(name,age))\n",
    "\n",
    "funct(\"zzl\",32)"
   ]
  },
  {
   "cell_type": "code",
   "execution_count": 55,
   "metadata": {},
   "outputs": [
    {
     "name": "stderr",
     "output_type": "stream",
     "text": [
      "WARNING:root:sell is running\n"
     ]
    },
    {
     "name": "stdout",
     "output_type": "stream",
     "text": [
      "zzl sell 3232 for 111 yen\n"
     ]
    }
   ],
   "source": [
    "@use_logging\n",
    "def sell(name:int,price:int,owner:str):\n",
    "    print(\"{} sell {} for {} yen\".format(owner,name,price))\n",
    "\n",
    "sell(\"3232\",111,\"zzl\")"
   ]
  },
  {
   "cell_type": "markdown",
   "metadata": {},
   "source": [
    "tip:从上例看出这个元信息本身是不做任何检查的……"
   ]
  },
  {
   "cell_type": "code",
   "execution_count": 60,
   "metadata": {},
   "outputs": [
    {
     "name": "stderr",
     "output_type": "stream",
     "text": [
      "WARNING:root:funct is running\n"
     ]
    },
    {
     "name": "stdout",
     "output_type": "stream",
     "text": [
      "zzl is 32\n"
     ]
    }
   ],
   "source": [
    "from functools import wraps\n",
    "def use_logging(func):\n",
    "    @wraps(func)\n",
    "    def wrapper(*args):\n",
    "        logging.warning(\"{} is running\".format(func.__name__))\n",
    "        return func(*args)\n",
    "    return wrapper\n",
    "\n",
    "@use_logging\n",
    "def funct(name:str,age:int):\n",
    "    print(\"{} is {}\".format(name,age))\n",
    "\n",
    "funct(\"zzl\",32)\n"
   ]
  },
  {
   "cell_type": "markdown",
   "metadata": {},
   "source": [
    "由于对带装饰功能的函数添加了@wraps装饰器，可以通过func.\\_\\_wrapped\\_\\_方式获得被装饰之前的函数或类来取消装饰器的作用。"
   ]
  },
  {
   "cell_type": "code",
   "execution_count": 61,
   "metadata": {},
   "outputs": [
    {
     "name": "stdout",
     "output_type": "stream",
     "text": [
      "zzl is 32\n"
     ]
    }
   ],
   "source": [
    "funct.__wrapped__(\"zzl\",32)"
   ]
  },
  {
   "cell_type": "markdown",
   "metadata": {},
   "source": [
    "装饰器不仅可以修饰方法，还可以修饰类\n"
   ]
  },
  {
   "cell_type": "code",
   "execution_count": 64,
   "metadata": {},
   "outputs": [
    {
     "ename": "AttributeError",
     "evalue": "can't set attribute",
     "output_type": "error",
     "traceback": [
      "\u001b[0;31m---------------------------------------------------------------------------\u001b[0m",
      "\u001b[0;31mAttributeError\u001b[0m                            Traceback (most recent call last)",
      "\u001b[0;32m<ipython-input-64-209de83007d9>\u001b[0m in \u001b[0;36m<module>\u001b[0;34m\u001b[0m\n\u001b[1;32m     28\u001b[0m         \u001b[0;32mreturn\u001b[0m \u001b[0mself\u001b[0m\u001b[0;34m.\u001b[0m\u001b[0mage\u001b[0m\u001b[0;34m\u001b[0m\u001b[0;34m\u001b[0m\u001b[0m\n\u001b[1;32m     29\u001b[0m \u001b[0;34m\u001b[0m\u001b[0m\n\u001b[0;32m---> 30\u001b[0;31m \u001b[0mtest\u001b[0m \u001b[0;34m=\u001b[0m \u001b[0mTest\u001b[0m\u001b[0;34m(\u001b[0m\u001b[0;34m\"zzl\"\u001b[0m\u001b[0;34m,\u001b[0m\u001b[0;36m14\u001b[0m\u001b[0;34m)\u001b[0m\u001b[0;34m\u001b[0m\u001b[0;34m\u001b[0m\u001b[0m\n\u001b[0m\u001b[1;32m     31\u001b[0m \u001b[0mtest\u001b[0m\u001b[0;34m.\u001b[0m\u001b[0mage\u001b[0m\u001b[0;34m\u001b[0m\u001b[0;34m\u001b[0m\u001b[0m\n",
      "\u001b[0;32m<ipython-input-64-209de83007d9>\u001b[0m in \u001b[0;36mwrapper\u001b[0;34m(*args)\u001b[0m\n\u001b[1;32m     12\u001b[0m             \u001b[0;32mwith\u001b[0m \u001b[0mlock\u001b[0m\u001b[0;34m:\u001b[0m\u001b[0;34m\u001b[0m\u001b[0;34m\u001b[0m\u001b[0m\n\u001b[1;32m     13\u001b[0m                 \u001b[0;32mif\u001b[0m \u001b[0mcls\u001b[0m \u001b[0;32mnot\u001b[0m \u001b[0;32min\u001b[0m \u001b[0minstances\u001b[0m\u001b[0;34m:\u001b[0m\u001b[0;34m\u001b[0m\u001b[0;34m\u001b[0m\u001b[0m\n\u001b[0;32m---> 14\u001b[0;31m                     \u001b[0minstances\u001b[0m\u001b[0;34m[\u001b[0m\u001b[0mcls\u001b[0m\u001b[0;34m]\u001b[0m \u001b[0;34m=\u001b[0m \u001b[0mcls\u001b[0m\u001b[0;34m(\u001b[0m\u001b[0;34m*\u001b[0m\u001b[0margs\u001b[0m\u001b[0;34m)\u001b[0m\u001b[0;34m\u001b[0m\u001b[0;34m\u001b[0m\u001b[0m\n\u001b[0m\u001b[1;32m     15\u001b[0m         \u001b[0;32mreturn\u001b[0m \u001b[0minstances\u001b[0m\u001b[0;34m[\u001b[0m\u001b[0mcls\u001b[0m\u001b[0;34m]\u001b[0m\u001b[0;34m\u001b[0m\u001b[0;34m\u001b[0m\u001b[0m\n\u001b[1;32m     16\u001b[0m     \u001b[0;32mreturn\u001b[0m \u001b[0mwrapper\u001b[0m\u001b[0;34m\u001b[0m\u001b[0;34m\u001b[0m\u001b[0m\n",
      "\u001b[0;32m<ipython-input-64-209de83007d9>\u001b[0m in \u001b[0;36m__init__\u001b[0;34m(self, name, age)\u001b[0m\n\u001b[1;32m     19\u001b[0m \u001b[0;32mclass\u001b[0m \u001b[0mTest\u001b[0m\u001b[0;34m:\u001b[0m\u001b[0;34m\u001b[0m\u001b[0;34m\u001b[0m\u001b[0m\n\u001b[1;32m     20\u001b[0m     \u001b[0;32mdef\u001b[0m \u001b[0m__init__\u001b[0m\u001b[0;34m(\u001b[0m\u001b[0mself\u001b[0m\u001b[0;34m,\u001b[0m\u001b[0mname\u001b[0m\u001b[0;34m,\u001b[0m\u001b[0mage\u001b[0m\u001b[0;34m)\u001b[0m\u001b[0;34m:\u001b[0m\u001b[0;34m\u001b[0m\u001b[0;34m\u001b[0m\u001b[0m\n\u001b[0;32m---> 21\u001b[0;31m         \u001b[0mself\u001b[0m\u001b[0;34m.\u001b[0m\u001b[0mname\u001b[0m \u001b[0;34m=\u001b[0m \u001b[0mname\u001b[0m\u001b[0;34m\u001b[0m\u001b[0;34m\u001b[0m\u001b[0m\n\u001b[0m\u001b[1;32m     22\u001b[0m         \u001b[0mself\u001b[0m\u001b[0;34m.\u001b[0m\u001b[0mage\u001b[0m \u001b[0;34m=\u001b[0m \u001b[0mage\u001b[0m\u001b[0;34m\u001b[0m\u001b[0;34m\u001b[0m\u001b[0m\n\u001b[1;32m     23\u001b[0m     \u001b[0;34m@\u001b[0m\u001b[0mproperty\u001b[0m\u001b[0;34m\u001b[0m\u001b[0;34m\u001b[0m\u001b[0m\n",
      "\u001b[0;31mAttributeError\u001b[0m: can't set attribute"
     ]
    }
   ],
   "source": [
    "# 单例模式\n",
    "from threading import RLock\n",
    "def singleton(cls):\n",
    "    instances = {}\n",
    "    # 加锁，保证线程安全\n",
    "    lock = RLock()\n",
    "    @wraps(cls)\n",
    "    #*args表示任何多个无名参数，它是一个tuple；**kwargs表示关键字参数，它是一个dict。\n",
    "    def wrapper(*args,**kwargs):\n",
    "        #两次判断，如果不在再加锁，性能更好（枚举一下状况就知道了）\n",
    "        if cls not in instances:\n",
    "            with lock:\n",
    "                if cls not in instances:\n",
    "                    instances[cls] = cls(*args,**kwargs)\n",
    "        return instances[cls]\n",
    "    return wrapper\n",
    "\n",
    "@singleton\n",
    "class Test:\n",
    "    def __init__(self,name,age):\n",
    "        self.name = name\n",
    "        self.age = age\n",
    "    @property\n",
    "    def name(self):\n",
    "        return self.name\n",
    "    @property\n",
    "    def age(self):\n",
    "        return self.age\n",
    "\n",
    "test = Test(\"zzl\",14)\n",
    "test.age"
   ]
  },
  {
   "cell_type": "code",
   "execution_count": 90,
   "metadata": {},
   "outputs": [
    {
     "data": {
      "text/plain": [
       "{'zzl': '原', 'rxn': '移', 'wsx': '补'}"
      ]
     },
     "execution_count": 90,
     "metadata": {},
     "output_type": "execute_result"
    }
   ],
   "source": [
    "import random\n",
    "name = ['zzl','rxn','wsx']\n",
    "label = ['原','补','移']\n",
    "dic = {}.fromkeys(name)\n",
    "for n in name:\n",
    "    i = random.randint(0,len(label)-1)\n",
    "    dic[n] = label[i]\n",
    "    label.pop(i)\n",
    "dic"
   ]
  },
  {
   "cell_type": "code",
   "execution_count": null,
   "metadata": {},
   "outputs": [],
   "source": []
  },
  {
   "cell_type": "code",
   "execution_count": null,
   "metadata": {},
   "outputs": [],
   "source": []
  }
 ],
 "metadata": {
  "kernelspec": {
   "display_name": "Python 3",
   "language": "python",
   "name": "python3"
  },
  "language_info": {
   "codemirror_mode": {
    "name": "ipython",
    "version": 3
   },
   "file_extension": ".py",
   "mimetype": "text/x-python",
   "name": "python",
   "nbconvert_exporter": "python",
   "pygments_lexer": "ipython3",
   "version": "3.7.6"
  },
  "toc": {
   "base_numbering": 1,
   "nav_menu": {},
   "number_sections": true,
   "sideBar": true,
   "skip_h1_title": false,
   "title_cell": "Table of Contents",
   "title_sidebar": "Contents",
   "toc_cell": false,
   "toc_position": {},
   "toc_section_display": true,
   "toc_window_display": true
  }
 },
 "nbformat": 4,
 "nbformat_minor": 2
}
