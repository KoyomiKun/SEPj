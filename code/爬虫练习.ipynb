{
 "cells": [
  {
   "cell_type": "markdown",
   "metadata": {},
   "source": [
    "# 爬虫练习\n",
    "## 一、简单练习\n",
    "### 1.urllib+bs+css select"
   ]
  },
  {
   "cell_type": "code",
   "execution_count": 3,
   "metadata": {},
   "outputs": [],
   "source": [
    "from urllib.request import urlopen"
   ]
  },
  {
   "cell_type": "markdown",
   "metadata": {},
   "source": [
    "*urllib -> request -> urlopen* "
   ]
  },
  {
   "cell_type": "code",
   "execution_count": 9,
   "metadata": {},
   "outputs": [],
   "source": [
    "url = \"http://hcsx.jtjyfw.net/NewList-23.aspx\"\n",
    "response = urlopen(url)"
   ]
  },
  {
   "cell_type": "code",
   "execution_count": 10,
   "metadata": {},
   "outputs": [],
   "source": [
    "content = response.read()"
   ]
  },
  {
   "cell_type": "code",
   "execution_count": 11,
   "metadata": {},
   "outputs": [],
   "source": [
    "content = content.decode('utf-8')"
   ]
  },
  {
   "cell_type": "code",
   "execution_count": 12,
   "metadata": {},
   "outputs": [
    {
     "name": "stdout",
     "output_type": "stream",
     "text": [
      "<!DOCTYPE html>\r\n",
      "<html>\r\n",
      "\t<head>\r\n",
      "\t\t<title>本周工作--金坛区华城实验小学</title>\r\n",
      "\t\t<link rel=\"shortcut icon\" href=\"/Html/Templates/default/img/logo.ico\"/>\r\n",
      "<link rel=\"bookmark\" href=\"/Html/Templates/default/img/logo.ico\"/>\r\n",
      "<meta name=\"keywords\" content=\"金坛区华城实验小学\">\r\n",
      "<meta name=\"description\" content=\"金坛区华城实验小学\">\r\n",
      "<meta name=\"renderer\" content=\"webkit\">\r\n",
      "<link rel=\"stylesheet\" type=\"text/css\" href=\"/Html/Templates/default/css/public.css?t=2\"/>\r\n",
      "<link rel=\"stylesheet\" type=\"text/css\" href=\"/Html/Templates/default/css/layui.css\"/>\r\n",
      "\t\t<link rel=\"stylesheet\" type=\"text/css\" href=\"/Html/Templates/default/css/NewList.css\"/>\r\n",
      "\t</head>\r\n",
      "\t<body>\r\n",
      "\t\t<div class=\"body1\">\n",
      "\t\t\t<div class=\"\">\n",
      "\t\t\t\t<div class=\"top\">\r\n",
      "\t<div class=\"top_bar\">\r\n",
      "\t\t<div class=\"center\">\r\n",
      "\t\t\t<div class=\"hy\">\r\n",
      "\t\t\t\t<span class=\"time\"></span><span id=\"week\"></span>\r\n",
      "\t\t\t</div>\r\n",
      "\t\t\t<div class=\"search\">\r\n",
      "\t\t\t\t\t\t<input type=\"text\" name=\"\" id=\"txtkeyWord\" value=\"\" placeholder=\"请输入关键词\" />\r\n",
      "\t\t\t\t<img onclick=\"searchFun()\" src=\"/Html/Templates/default/img/search.jpg\"/>\r\n",
      "\t\t\t</div>\r\n",
      "\t\t\t<div class=\"login\">\r\n",
      "\t\t\t\t<div id=\"8aeedff85eb07ff4cd1db24f0256d669\" class=\"TrueLogin JsLoginUser\"></div><div class=\"FalseLogin\"><label for=\"\">用户名：</label><input type=\"text\" name=\"\" id=\"U_username\"  value=\"\" placeholder=\"请输入用户名\"/>\r\n",
      "\t\t\t\t<label for=\"\">密码：</label><input type=\"password\" placeholder=\"请输入密码\" name=\"\" id=\"P_password\" value=\"\"/>\r\n",
      "\t\t\t\t<button class=\"dl\" onclick=\"LoginServer()\">登录</button>\r\n",
      "\t\t\t\t<button class=\"sm\" onclick=\"WxLoginServer()\">扫码</button></div>\r\n",
      "\t\t\t\t<div id=\"appLoginTab\" class=\"loginForm\" style=\"display: none;width: 100%;height: 100%;background: rgba(41, 39, 39, 0.18);position: fixed;top:0;left: 0;    z-index: 11;\">\r\n",
      "\t\t\t\t\t<div class=\"code2\" id=\"LoginWxCode\" style=\"position: fixed;top:35%;left: 55%;box-shadow: 10px 10px 10px #A29B9B;\">    </div>\r\n",
      "\t\t\t\t</div>\r\n",
      "\t\t\t</div>\r\n",
      "\t\t</div>\r\n",
      "\t</div>\r\n",
      "\t<div class=\"logo\">\r\n",
      "\t\t<img src=\"/Html/Templates/default/img/topLogo-1.png\"/>\r\n",
      "\t</div>\r\n",
      "\t<div class=\"nav\">\r\n",
      "\t\t<ul class=\"layui-nav\">\r\n",
      "\t\t\t<li class=\"sy\"><a class=\"active\" href=\"/\">网站首页</a></li>\r\n",
      "\t\t\t\r\n",
      "\t\t\t<li  class=\"layui-nav-item\">\r\n",
      "\t\t\t\t<a href=\"/NewList-1065.aspx\">校务公开</a>\r\n",
      "\t\t\t</li>\r\n",
      "\t\t\t\r\n",
      "\t\t\t<li  class=\"layui-nav-item\">\r\n",
      "\t\t\t\t<a href=\"/NewList-7.aspx\">校园信息</a>\r\n",
      "\t\t\t</li>\r\n",
      "\t\t\t\r\n",
      "\t\t\t<li  class=\"layui-nav-item\">\r\n",
      "\t\t\t\t<a href=\"/NewList-1.aspx\">党建之窗</a>\r\n",
      "\t\t\t</li>\r\n",
      "\t\t\t\r\n",
      "\t\t\t<li  class=\"layui-nav-item\">\r\n",
      "\t\t\t\t<a href=\"/NewList-70.aspx\">德育天地</a>\r\n",
      "\t\t\t</li>\r\n",
      "\t\t\t\r\n",
      "\t\t\t<li  class=\"layui-nav-item\">\r\n",
      "\t\t\t\t<a href=\"/NewList-132.aspx\">教务管理</a>\r\n",
      "\t\t\t</li>\r\n",
      "\t\t\t\r\n",
      "\t\t\t<li  class=\"layui-nav-item\">\r\n",
      "\t\t\t\t<a href=\"/NewList-44.aspx\">教育科研</a>\r\n",
      "\t\t\t</li>\r\n",
      "\t\t\t\r\n",
      "\t\t\t<li  class=\"layui-nav-item\">\r\n",
      "\t\t\t\t<a href=\"/NewList-87.aspx\">特色教育</a>\r\n",
      "\t\t\t</li>\r\n",
      "\t\t\t\r\n",
      "\t\t\t<li  class=\"layui-nav-item\">\r\n",
      "\t\t\t\t<a href=\"/NewList-168.aspx\">书香校园</a>\r\n",
      "\t\t\t</li>\r\n",
      "\t\t\t\r\n",
      "\t\t</ul>\r\n",
      "\t</div>\r\n",
      "</div>\r\n",
      "\r\n",
      "\t\t\t\t<div class=\"main\">\r\n",
      "\t\t\t\t\t<div class=\"path\">\r\n",
      "\t\t\t\t\t\t<i class=\"layui-icon layui-icon-location\"></i>  当前位置： <a href=\"\">首页</a>>><a href=\"/NewList-7.aspx\">校园信息</a>>><a href=\"/NewList-18.aspx\">行政管理</a>>><a href=\"/NewList-23.aspx\">本周工作</a>>>新闻列表\r\n",
      "\t\t\t\t\t</div>\r\n",
      "\t\t\t\t\t<div class=\"artical layui-clear\" >\r\n",
      "\t\t\t\t\t\t<div class=\"list_left\">\r\n",
      "\t\t\t\t\t\t\t<div class=\"nav_left\">\r\n",
      "\t\t\t\t\t\t\t\t<div class=\"title\">\r\n",
      "\t\t\t\t\t\t\t\t\t<span>本周工作</span>\r\n",
      "\t\t\t\t\t\t\t\t</div>\r\n",
      "\t\t\t\t\t\t\t\t<ul>\r\n",
      "\t\t\t\t\t\t\t\t\t\r\n",
      "\t\t\t\t\t                <li>\r\n",
      "\t\t\t\t\t                    <a href=\"/NewList-20.aspx\">计划总结</a>\r\n",
      "\t\t\t\t\t                </li>\r\n",
      "\t\t\t\t\t                \r\n",
      "\t\t\t\t\t                <li>\r\n",
      "\t\t\t\t\t                    <a href=\"/NewList-21.aspx\">行风建设</a>\r\n",
      "\t\t\t\t\t                </li>\r\n",
      "\t\t\t\t\t                \r\n",
      "\t\t\t\t\t                <li>\r\n",
      "\t\t\t\t\t                    <a href=\"/NewList-23.aspx\">本周工作</a>\r\n",
      "\t\t\t\t\t                </li>\r\n",
      "\t\t\t\t\t                \r\n",
      "\t\t\t\t\t                <li>\r\n",
      "\t\t\t\t\t                    <a href=\"/NewList-24.aspx\">检查公告</a>\r\n",
      "\t\t\t\t\t                </li>\r\n",
      "\t\t\t\t\t                \r\n",
      "\t\t\t\t\t                <li>\r\n",
      "\t\t\t\t\t                    <a href=\"/NewList-25.aspx\">每日卫生</a>\r\n",
      "\t\t\t\t\t                </li>\r\n",
      "\t\t\t\t\t                \r\n",
      "\t\t\t\t\t                <li>\r\n",
      "\t\t\t\t\t                    <a href=\"/NewList-26.aspx\">安全工作</a>\r\n",
      "\t\t\t\t\t                </li>\r\n",
      "\t\t\t\t\t                \r\n",
      "\t\t\t\t\t\t\t\t</ul>\r\n",
      "\t\t\t\t\t\t\t</div>\r\n",
      "\t\t\t\t\t\t</div>\r\n",
      "\t\t\t\t\t\t<div class=\"news\">\r\n",
      "\t\t\t\t\t\t\t\r\n",
      "\t\t\t\t\t\t\t<ul class=\"list\">\r\n",
      "\t\t\t\t\t\t\t\t\r\n",
      "\t\t\t\t\t\t\t\t<li><a href=\"/NewShow-13910.aspx\" target=\"_blank\">2019-2020秋学期第十八周工作安排</a><span>2019-12-30</span></li>\r\n",
      "\t\t\t\t\t\t\t\t\r\n",
      "\t\t\t\t\t\t\t\t<li><a href=\"/NewShow-13903.aspx\" target=\"_blank\">2019-2020秋学期第十七周工作安排</a><span>2019-12-23</span></li>\r\n",
      "\t\t\t\t\t\t\t\t\r\n",
      "\t\t\t\t\t\t\t\t<li><a href=\"/NewShow-13897.aspx\" target=\"_blank\">2019-2020秋学期第十六周工作安排</a><span>2019-12-16</span></li>\r\n",
      "\t\t\t\t\t\t\t\t\r\n",
      "\t\t\t\t\t\t\t\t<li><a href=\"/NewShow-13887.aspx\" target=\"_blank\">2019-2020秋学期第十五周工作安排</a><span>2019-12-09</span></li>\r\n",
      "\t\t\t\t\t\t\t\t\r\n",
      "\t\t\t\t\t\t\t\t<li><a href=\"/NewShow-13867.aspx\" target=\"_blank\">2019-2020秋学期第十四周工作安排</a><span>2019-12-02</span></li>\r\n",
      "\t\t\t\t\t\t\t\t\r\n",
      "\t\t\t\t\t\t\t\t<li><a href=\"/NewShow-13818.aspx\" target=\"_blank\">2019-2020秋学期第十三周工作安排</a><span>2019-11-25</span></li>\r\n",
      "\t\t\t\t\t\t\t\t\r\n",
      "\t\t\t\t\t\t\t\t<li><a href=\"/NewShow-13817.aspx\" target=\"_blank\">2019-2020秋学期第十二周工作安排</a><span>2019-11-18</span></li>\r\n",
      "\t\t\t\t\t\t\t\t\r\n",
      "\t\t\t\t\t\t\t\t<li><a href=\"/NewShow-13752.aspx\" target=\"_blank\">2019-2020秋学期第十一周工作安排</a><span>2019-11-11</span></li>\r\n",
      "\t\t\t\t\t\t\t\t\r\n",
      "\t\t\t\t\t\t\t\t<li><a href=\"/NewShow-13751.aspx\" target=\"_blank\">2019-2020秋学期第十周工作安排</a><span>2019-11-04</span></li>\r\n",
      "\t\t\t\t\t\t\t\t\r\n",
      "\t\t\t\t\t\t\t\t<li><a href=\"/NewShow-13723.aspx\" target=\"_blank\">2019-2020秋学期第九周工作安排</a><span>2019-10-28</span></li>\r\n",
      "\t\t\t\t\t\t\t\t\r\n",
      "\t\t\t\t\t\t\t\t<li><a href=\"/NewShow-13703.aspx\" target=\"_blank\">2019-2020秋学期第八周工作安排</a><span>2019-10-21</span></li>\r\n",
      "\t\t\t\t\t\t\t\t\r\n",
      "\t\t\t\t\t\t\t\t<li><a href=\"/NewShow-13704.aspx\" target=\"_blank\">2019-2020秋学期第七周工作安排</a><span>2019-10-14</span></li>\r\n",
      "\t\t\t\t\t\t\t\t\r\n",
      "\t\t\t\t\t\t\t\t<li><a href=\"/NewShow-13688.aspx\" target=\"_blank\">2019-2020秋学期第六周工作安排</a><span>2019-10-08</span></li>\r\n",
      "\t\t\t\t\t\t\t\t\r\n",
      "\t\t\t\t\t\t\t\t<li><a href=\"/NewShow-13679.aspx\" target=\"_blank\">2019-2020秋学期第四周工作安排</a><span>2019-09-24</span></li>\r\n",
      "\t\t\t\t\t\t\t\t\r\n",
      "\t\t\t\t\t\t\t\t<li><a href=\"/NewShow-13669.aspx\" target=\"_blank\">2019-2020秋学期第三周工作安排</a><span>2019-09-16</span></li>\r\n",
      "\t\t\t\t\t\t\t\t \r\n",
      "\t\t\t\t\t\t\t</ul>\r\n",
      "\t\t\t\t\t\t\t<ul class=\"page\"><li><span href=\"NewList-23-476-1.aspx\" class=\"show\">1</span></li><li><a href=\"NewList-23-476-2.aspx\" style=\"margin-right:3px\">2</a></li><li><a href=\"NewList-23-476-3.aspx\" style=\"margin-right:3px\">3</a></li><li><a href=\"NewList-23-476-4.aspx\" style=\"margin-right:3px\">4</a></li><li><a href=\"NewList-23-476-5.aspx\" style=\"margin-right:3px\">5</a></li><li><a href=\"NewList-23-476-6.aspx\" style=\"margin-right:3px\">6</a></li><li><a href=\"NewList-23-476-7.aspx\" style=\"margin-right:3px\">7</a></li><li><a href=\"NewList-23-476-8.aspx\" style=\"margin-right:3px\">8</a></li><li><a href=\"NewList-23-476-9.aspx\" style=\"margin-right:3px\">9</a></li><li><a href=\"NewList-23-476-10.aspx\" style=\"margin-right:3px\">10</a></li><li><a href=\"NewList-23-476-11.aspx\">...</a></li><li><a href=\"NewList-23-476-2.aspx\">下一页</a></li><li><a href=\"NewList-23-476-32.aspx\">尾页</a></li></ul>\r\n",
      "\t\t\t\t\t\t\t\r\n",
      "\t\t\t\t\t\t</div>\r\n",
      "\t\t\t\t\t</div>\r\n",
      "\t\t\t\t</div>\r\n",
      "\t\t\t\t<div class=\"foot\">\r\n",
      "\t<div class=\"yqlj\">\r\n",
      "\t\t<div class=\"center\">\r\n",
      "\t\t\t<div class=\"link_title\">\r\n",
      "\t\t\t\t<span>友情链接</span>                                                                                                                                      \r\n",
      "\t\t\t\t<div class=\"name n1\">省级网站</div>\r\n",
      "\t\t\t\t<div class=\"name n2\">市级网站</div>\r\n",
      "\t\t\t\t<div class=\"name n3\">区级网站</div>\r\n",
      "\t\t\t\t<div class=\"name n4\">校级网站</div>\r\n",
      "\t\t\t\t<div class=\"name n5\">综合网站</div>\r\n",
      "\t\t\t</div>\r\n",
      "\t\t\t<div id=\"n1\" class=\"link_info\">\r\n",
      "\t\t\t\t<ul>\r\n",
      "\t\t\t\t\t<li><a href=\"http://be.jse.edu.cn/\" target=\"_blank\" >江苏教育资源</a></li> \r\n",
      "\t\t\t\t</ul>\r\n",
      "\t\t\t</div>\r\n",
      "\t\t\t<div id=\"n2\" class=\"link_info\">\r\n",
      "\t\t\t\t<ul>\r\n",
      "\t\t\t\t\t \r\n",
      "\t\t\t\t</ul>\r\n",
      "\t\t\t\t</div>\r\n",
      "\t\t\t<div id=\"n3\" class=\"link_info\">\r\n",
      "\t\t\t\t<ul>\r\n",
      "\t\t\t\t<li><a href=\"http://www.jtjyfw.net/\" target=\"_blank\" >金坛教育服务</a></li><li><a href=\"http://yun.jtjy.cn\" target=\"_blank\" >金坛教育服平台</a></li><li><a href=\"http://www.jtjyfw.net/NewList-82.aspx\" target=\"_blank\" >教师发展中心</a></li><li><a href=\"http://112.21.191.229:84/a01dcf9480a74d8991a588307d5e06dd/Organization/Index.aspx\" target=\"_blank\" >教育督导</a></li> \r\n",
      "\t\t\t\t</ul>\r\n",
      "\t\t\t\t</div>\r\n",
      "\t\t\t<div id=\"n4\" class=\"link_info\">\r\n",
      "\t\t\t\t<ul>\r\n",
      "\t\t\t\t\t \r\n",
      "\t\t\t\t</ul>\r\n",
      "\t\t\t\t</div>\r\n",
      "\t\t\t<div id=\"n5\" class=\"link_info\">\r\n",
      "\t\t\t\t<ul>\r\n",
      "\t\t\t\t<li><a href=\"https://www.qspfw.com/\" target=\"_blank\" >普法网</a></li> \r\n",
      "\t\t\t\t</ul>\r\n",
      "\t\t\t</div>\r\n",
      "\t\t\t\r\n",
      "\t\t</div>\r\n",
      "\t\t\t\t\r\n",
      "\t</div>\r\n",
      "\t<div class=\"foot_bar\">\r\n",
      "\t\t<p>版权所有：金坛区华城实验小学  地址：常州市金坛区育才路28号   电话:0519-82325269</p>\r\n",
      "\t\t<p><a href=\"http://www.yuhsoft.com\" target=\"_blank\">技术支持：南京裕后网络科技有限公司</a></p>\r\n",
      "\t</div>\r\n",
      "</div>\n",
      "\t\t\t</div>\n",
      "\t\t</div>\r\n",
      "\t\t<script src=\"/Html/Templates/default/js/jquery-1.8.3.min.js\" type=\"text/javascript\" charset=\"utf-8\"></script>\r\n",
      "<script src=\"/Html/Templates/default/layui.js\" type=\"text/javascript\" charset=\"utf-8\"></script>\r\n",
      "<script src=\"/Html/Templates/default/js/public.js\" type=\"text/javascript\" charset=\"utf-8\"></script>\r\n",
      "<script src=\"/Html/Templates/default/js/Login.js?t=2\" type=\"text/javascript\" charset=\"utf-8\"></script>\r\n",
      "<script src=\"/Html/Templates/default/js/common1.js?t=1\" type=\"text/javascript\" charset=\"utf-8\"></script>\r\n",
      "<script type=\"text/javascript\">\r\n",
      "\t$(function(){\r\n",
      "\t\t$('#appLoginTab').click(function(){\r\n",
      "\t\t\t$('#appLoginTab').css('display','none');\r\n",
      "\t\t})\r\n",
      "\t})\r\n",
      "</script>\r\n",
      "<div id=\"jscode\"></div>\r\n",
      "\t\t<script src=\"http://www.jtjyfw.net/js/create.js\" type=\"text/javascript\" charset=\"utf-8\"></script>\r\n",
      "\t</body>\r\n",
      "</html>\n"
     ]
    }
   ],
   "source": [
    "print(content)"
   ]
  },
  {
   "cell_type": "code",
   "execution_count": 13,
   "metadata": {},
   "outputs": [],
   "source": [
    "from bs4 import BeautifulSoup"
   ]
  },
  {
   "cell_type": "code",
   "execution_count": 14,
   "metadata": {},
   "outputs": [],
   "source": [
    "Soup = BeautifulSoup(content,'lxml')"
   ]
  },
  {
   "cell_type": "code",
   "execution_count": 28,
   "metadata": {},
   "outputs": [],
   "source": [
    "ul = Soup.select('ul[class=\"list\"] li')"
   ]
  },
  {
   "cell_type": "code",
   "execution_count": 29,
   "metadata": {},
   "outputs": [
    {
     "name": "stdout",
     "output_type": "stream",
     "text": [
      "[<li><a href=\"/NewShow-13910.aspx\" target=\"_blank\">2019-2020秋学期第十八周工作安排</a><span>2019-12-30</span></li>, <li><a href=\"/NewShow-13903.aspx\" target=\"_blank\">2019-2020秋学期第十七周工作安排</a><span>2019-12-23</span></li>, <li><a href=\"/NewShow-13897.aspx\" target=\"_blank\">2019-2020秋学期第十六周工作安排</a><span>2019-12-16</span></li>, <li><a href=\"/NewShow-13887.aspx\" target=\"_blank\">2019-2020秋学期第十五周工作安排</a><span>2019-12-09</span></li>, <li><a href=\"/NewShow-13867.aspx\" target=\"_blank\">2019-2020秋学期第十四周工作安排</a><span>2019-12-02</span></li>, <li><a href=\"/NewShow-13818.aspx\" target=\"_blank\">2019-2020秋学期第十三周工作安排</a><span>2019-11-25</span></li>, <li><a href=\"/NewShow-13817.aspx\" target=\"_blank\">2019-2020秋学期第十二周工作安排</a><span>2019-11-18</span></li>, <li><a href=\"/NewShow-13752.aspx\" target=\"_blank\">2019-2020秋学期第十一周工作安排</a><span>2019-11-11</span></li>, <li><a href=\"/NewShow-13751.aspx\" target=\"_blank\">2019-2020秋学期第十周工作安排</a><span>2019-11-04</span></li>, <li><a href=\"/NewShow-13723.aspx\" target=\"_blank\">2019-2020秋学期第九周工作安排</a><span>2019-10-28</span></li>, <li><a href=\"/NewShow-13703.aspx\" target=\"_blank\">2019-2020秋学期第八周工作安排</a><span>2019-10-21</span></li>, <li><a href=\"/NewShow-13704.aspx\" target=\"_blank\">2019-2020秋学期第七周工作安排</a><span>2019-10-14</span></li>, <li><a href=\"/NewShow-13688.aspx\" target=\"_blank\">2019-2020秋学期第六周工作安排</a><span>2019-10-08</span></li>, <li><a href=\"/NewShow-13679.aspx\" target=\"_blank\">2019-2020秋学期第四周工作安排</a><span>2019-09-24</span></li>, <li><a href=\"/NewShow-13669.aspx\" target=\"_blank\">2019-2020秋学期第三周工作安排</a><span>2019-09-16</span></li>]\n"
     ]
    }
   ],
   "source": [
    "print(ul)"
   ]
  },
  {
   "cell_type": "code",
   "execution_count": 34,
   "metadata": {},
   "outputs": [
    {
     "name": "stdout",
     "output_type": "stream",
     "text": [
      "{'title': '2019-2020秋学期第十八周工作安排', 'time': '2019-12-30', 'href': '/NewShow-13910.aspx'}\n",
      "{'title': '2019-2020秋学期第十七周工作安排', 'time': '2019-12-23', 'href': '/NewShow-13903.aspx'}\n",
      "{'title': '2019-2020秋学期第十六周工作安排', 'time': '2019-12-16', 'href': '/NewShow-13897.aspx'}\n",
      "{'title': '2019-2020秋学期第十五周工作安排', 'time': '2019-12-09', 'href': '/NewShow-13887.aspx'}\n",
      "{'title': '2019-2020秋学期第十四周工作安排', 'time': '2019-12-02', 'href': '/NewShow-13867.aspx'}\n",
      "{'title': '2019-2020秋学期第十三周工作安排', 'time': '2019-11-25', 'href': '/NewShow-13818.aspx'}\n",
      "{'title': '2019-2020秋学期第十二周工作安排', 'time': '2019-11-18', 'href': '/NewShow-13817.aspx'}\n",
      "{'title': '2019-2020秋学期第十一周工作安排', 'time': '2019-11-11', 'href': '/NewShow-13752.aspx'}\n",
      "{'title': '2019-2020秋学期第十周工作安排', 'time': '2019-11-04', 'href': '/NewShow-13751.aspx'}\n",
      "{'title': '2019-2020秋学期第九周工作安排', 'time': '2019-10-28', 'href': '/NewShow-13723.aspx'}\n",
      "{'title': '2019-2020秋学期第八周工作安排', 'time': '2019-10-21', 'href': '/NewShow-13703.aspx'}\n",
      "{'title': '2019-2020秋学期第七周工作安排', 'time': '2019-10-14', 'href': '/NewShow-13704.aspx'}\n",
      "{'title': '2019-2020秋学期第六周工作安排', 'time': '2019-10-08', 'href': '/NewShow-13688.aspx'}\n",
      "{'title': '2019-2020秋学期第四周工作安排', 'time': '2019-09-24', 'href': '/NewShow-13679.aspx'}\n",
      "{'title': '2019-2020秋学期第三周工作安排', 'time': '2019-09-16', 'href': '/NewShow-13669.aspx'}\n"
     ]
    }
   ],
   "source": [
    "for i in ul:\n",
    "    title = i.a.get_text()\n",
    "    time = i.span.get_text()\n",
    "    href = i.a['href']\n",
    "    print({\n",
    "        'title':title,\n",
    "        'time':time,\n",
    "        'href':href\n",
    "    })"
   ]
  },
  {
   "cell_type": "markdown",
   "metadata": {},
   "source": [
    "### 2.requests+lxml+xpath"
   ]
  },
  {
   "cell_type": "code",
   "execution_count": 35,
   "metadata": {},
   "outputs": [],
   "source": [
    "import requests"
   ]
  },
  {
   "cell_type": "code",
   "execution_count": 36,
   "metadata": {},
   "outputs": [],
   "source": [
    "response = requests.get(\"http://hcsx.jtjyfw.net/NewList-23.aspx\")"
   ]
  },
  {
   "cell_type": "code",
   "execution_count": 37,
   "metadata": {},
   "outputs": [],
   "source": [
    "from lxml import etree"
   ]
  },
  {
   "cell_type": "code",
   "execution_count": 38,
   "metadata": {},
   "outputs": [],
   "source": [
    "content = etree.HTML(response.text)"
   ]
  },
  {
   "cell_type": "code",
   "execution_count": 39,
   "metadata": {},
   "outputs": [],
   "source": [
    "title = content.xpath('//ul[@class=\"list\"]/li/a/text()')"
   ]
  },
  {
   "cell_type": "code",
   "execution_count": 40,
   "metadata": {},
   "outputs": [
    {
     "name": "stdout",
     "output_type": "stream",
     "text": [
      "['2019-2020秋学期第十八周工作安排', '2019-2020秋学期第十七周工作安排', '2019-2020秋学期第十六周工作安排', '2019-2020秋学期第十五周工作安排', '2019-2020秋学期第十四周工作安排', '2019-2020秋学期第十三周工作安排', '2019-2020秋学期第十二周工作安排', '2019-2020秋学期第十一周工作安排', '2019-2020秋学期第十周工作安排', '2019-2020秋学期第九周工作安排', '2019-2020秋学期第八周工作安排', '2019-2020秋学期第七周工作安排', '2019-2020秋学期第六周工作安排', '2019-2020秋学期第四周工作安排', '2019-2020秋学期第三周工作安排']\n"
     ]
    }
   ],
   "source": [
    "print(title)"
   ]
  },
  {
   "cell_type": "code",
   "execution_count": 42,
   "metadata": {},
   "outputs": [],
   "source": [
    "time  = content.xpath('//ul[@class=\"list\"]/li/span/text()')"
   ]
  },
  {
   "cell_type": "code",
   "execution_count": 43,
   "metadata": {},
   "outputs": [],
   "source": [
    "href  = content.xpath('//ul[@class=\"list\"]/li/a/@href')"
   ]
  },
  {
   "cell_type": "code",
   "execution_count": 47,
   "metadata": {},
   "outputs": [
    {
     "name": "stdout",
     "output_type": "stream",
     "text": [
      "{'title': '2019-2020秋学期第十八周工作安排', 'time': '2019-12-30', 'href': '/NewShow-13910.aspx'}\n",
      "{'title': '2019-2020秋学期第十七周工作安排', 'time': '2019-12-23', 'href': '/NewShow-13903.aspx'}\n",
      "{'title': '2019-2020秋学期第十六周工作安排', 'time': '2019-12-16', 'href': '/NewShow-13897.aspx'}\n",
      "{'title': '2019-2020秋学期第十五周工作安排', 'time': '2019-12-09', 'href': '/NewShow-13887.aspx'}\n",
      "{'title': '2019-2020秋学期第十四周工作安排', 'time': '2019-12-02', 'href': '/NewShow-13867.aspx'}\n",
      "{'title': '2019-2020秋学期第十三周工作安排', 'time': '2019-11-25', 'href': '/NewShow-13818.aspx'}\n",
      "{'title': '2019-2020秋学期第十二周工作安排', 'time': '2019-11-18', 'href': '/NewShow-13817.aspx'}\n",
      "{'title': '2019-2020秋学期第十一周工作安排', 'time': '2019-11-11', 'href': '/NewShow-13752.aspx'}\n",
      "{'title': '2019-2020秋学期第十周工作安排', 'time': '2019-11-04', 'href': '/NewShow-13751.aspx'}\n",
      "{'title': '2019-2020秋学期第九周工作安排', 'time': '2019-10-28', 'href': '/NewShow-13723.aspx'}\n",
      "{'title': '2019-2020秋学期第八周工作安排', 'time': '2019-10-21', 'href': '/NewShow-13703.aspx'}\n",
      "{'title': '2019-2020秋学期第七周工作安排', 'time': '2019-10-14', 'href': '/NewShow-13704.aspx'}\n",
      "{'title': '2019-2020秋学期第六周工作安排', 'time': '2019-10-08', 'href': '/NewShow-13688.aspx'}\n",
      "{'title': '2019-2020秋学期第四周工作安排', 'time': '2019-09-24', 'href': '/NewShow-13679.aspx'}\n",
      "{'title': '2019-2020秋学期第三周工作安排', 'time': '2019-09-16', 'href': '/NewShow-13669.aspx'}\n"
     ]
    }
   ],
   "source": [
    "for i in zip(title,time,href):\n",
    "    print({\n",
    "        'title':i[0],\n",
    "        'time':i[1],\n",
    "        'href':i[2]\n",
    "    })"
   ]
  },
  {
   "cell_type": "markdown",
   "metadata": {},
   "source": [
    "## 二、实战练习\n",
    "### 1.静态网页"
   ]
  },
  {
   "cell_type": "code",
   "execution_count": 34,
   "metadata": {},
   "outputs": [],
   "source": [
    "import requests\n",
    "import pandas as pd\n",
    "from bs4 import BeautifulSoup\n",
    "from lxml import etree"
   ]
  },
  {
   "cell_type": "code",
   "execution_count": 36,
   "metadata": {},
   "outputs": [],
   "source": [
    "url = 'https://www.bilibili.com/v/game/stand_alone#/all/default/0/1/'\n",
    "headers = {'User-Agent':'Mozilla/5.0 (Macintosh; Intel Mac OS X 10_14_6) AppleWebKit/537.36 (KHTML, like Gecko) Chrome/79.0.3945.117 Safari/537.36',\n",
    "           'Cookie':\"CURRENT_FNVAL=16; buvid3=7CB96DA9-C5C5-4DFA-9205-88FFB6264F0077400infoc; stardustvideo=1; LIVE_BUVID=AUTO1615473942828456; fts=1547394595; sid=8ybcbyh1; CURRENT_QUALITY=116; im_notify_type_33675604=0; rpdid=|(J~J~m)kml~0J'ull~~kYm)m; _uuid=E60B6E19-D95E-7FED-8067-10A5C2C5ED0890793infoc; DedeUserID=33675604; DedeUserID__ckMd5=75e63eca9d6db2d8; SESSDATA=1fb49067%2C1581790307%2C8e573311; bili_jct=49d4970c1db350b9b9e2d1ceaa285239; bp_t_offset_33675604=345412243593656443\"}"
   ]
  },
  {
   "cell_type": "code",
   "execution_count": 41,
   "metadata": {},
   "outputs": [
    {
     "name": "stdout",
     "output_type": "stream",
     "text": [
      "<Response [200]>\n"
     ]
    }
   ],
   "source": [
    "response = requests.get(url = url,headers = headers)\n",
    "print(response)"
   ]
  },
  {
   "cell_type": "code",
   "execution_count": 42,
   "metadata": {},
   "outputs": [
    {
     "name": "stdout",
     "output_type": "stream",
     "text": [
      "<Element html at 0x7f1285c5d910>\n"
     ]
    }
   ],
   "source": [
    "content = etree.HTML(response.text)\n",
    "print(content)"
   ]
  },
  {
   "cell_type": "code",
   "execution_count": 46,
   "metadata": {},
   "outputs": [
    {
     "name": "stdout",
     "output_type": "stream",
     "text": [
      "[]\n"
     ]
    }
   ],
   "source": [
    "name = content.xpath('//div[@class=\"r\"]/a/text()')\n",
    "context = content.xpath('//div[@class=\"r\"]/div[@class=\"v-desc\"]/text()')\n",
    "uper = content.xpath('//a[@class=\"v-author\"]/text()')\n",
    "playback = content.xpath('//i[@title=\"观看\"]/../span/text()')\n",
    "comment_num = content.xpath('//i[@title=\"弹幕\"]/../span/text()')\n",
    "print(content.xpath('//div[@class=\"\"]'))"
   ]
  },
  {
   "cell_type": "code",
   "execution_count": 6,
   "metadata": {},
   "outputs": [],
   "source": [
    "dataset = {\n",
    "    '回复人':name,\n",
    "    '回复内容':replay_content,\n",
    "    '回复日期':date\n",
    "}"
   ]
  },
  {
   "cell_type": "code",
   "execution_count": 7,
   "metadata": {},
   "outputs": [],
   "source": [
    "data = pd.DataFrame(dataset)"
   ]
  },
  {
   "cell_type": "code",
   "execution_count": 8,
   "metadata": {},
   "outputs": [],
   "source": [
    "data.to_csv('bilibili_replay.csv')"
   ]
  },
  {
   "cell_type": "code",
   "execution_count": 9,
   "metadata": {},
   "outputs": [
    {
     "data": {
      "text/html": [
       "<div>\n",
       "<style scoped>\n",
       "    .dataframe tbody tr th:only-of-type {\n",
       "        vertical-align: middle;\n",
       "    }\n",
       "\n",
       "    .dataframe tbody tr th {\n",
       "        vertical-align: top;\n",
       "    }\n",
       "\n",
       "    .dataframe thead th {\n",
       "        text-align: right;\n",
       "    }\n",
       "</style>\n",
       "<table border=\"1\" class=\"dataframe\">\n",
       "  <thead>\n",
       "    <tr style=\"text-align: right;\">\n",
       "      <th></th>\n",
       "      <th>回复人</th>\n",
       "      <th>回复内容</th>\n",
       "      <th>回复日期</th>\n",
       "    </tr>\n",
       "  </thead>\n",
       "  <tbody>\n",
       "  </tbody>\n",
       "</table>\n",
       "</div>"
      ],
      "text/plain": [
       "Empty DataFrame\n",
       "Columns: [回复人, 回复内容, 回复日期]\n",
       "Index: []"
      ]
     },
     "execution_count": 9,
     "metadata": {},
     "output_type": "execute_result"
    }
   ],
   "source": [
    "data.head()"
   ]
  },
  {
   "cell_type": "code",
   "execution_count": 10,
   "metadata": {},
   "outputs": [
    {
     "name": "stdout",
     "output_type": "stream",
     "text": [
      "Empty DataFrame\n",
      "Columns: [回复人, 回复内容, 回复日期]\n",
      "Index: []\n"
     ]
    }
   ],
   "source": [
    "print(data)"
   ]
  },
  {
   "cell_type": "markdown",
   "metadata": {},
   "source": [
    "**bilibili不是静态网页，爬起来不能用静态方法**  \n",
    "源代码显示和元素检查的代码不一样"
   ]
  },
  {
   "cell_type": "markdown",
   "metadata": {},
   "source": [
    "### 2.动态网页"
   ]
  },
  {
   "cell_type": "code",
   "execution_count": 47,
   "metadata": {},
   "outputs": [],
   "source": [
    "import requests\n",
    "from lxml import etree\n",
    "import pandas as pd\n"
   ]
  },
  {
   "cell_type": "code",
   "execution_count": null,
   "metadata": {},
   "outputs": [],
   "source": [
    "url = 'https://www.bilibili.com/v/game/stand_alone#/all/default/0/1/'\n"
   ]
  }
 ],
 "metadata": {
  "kernelspec": {
   "display_name": "Python 3",
   "language": "python",
   "name": "python3"
  },
  "language_info": {
   "codemirror_mode": {
    "name": "ipython",
    "version": 3
   },
   "file_extension": ".py",
   "mimetype": "text/x-python",
   "name": "python",
   "nbconvert_exporter": "python",
   "pygments_lexer": "ipython3",
   "version": "3.7.6"
  }
 },
 "nbformat": 4,
 "nbformat_minor": 2
}
