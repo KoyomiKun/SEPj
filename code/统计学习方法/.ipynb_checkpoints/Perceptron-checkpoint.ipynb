{
 "cells": [
  {
   "cell_type": "markdown",
   "metadata": {},
   "source": [
    "# Percepron\n",
    "* 数据来自书上例题\n",
    "* 对偶方法"
   ]
  },
  {
   "cell_type": "code",
   "execution_count": 2,
   "metadata": {},
   "outputs": [
    {
     "name": "stdout",
     "output_type": "stream",
     "text": [
      "[[2. 0. 5.]] [[-3]]\n"
     ]
    }
   ],
   "source": [
    "import numpy as np\n",
    "import matplotlib.pyplot as plt\n",
    "# data divition and preparation\n",
    "data = np.matrix([[3,3,1],[4,3,1],[1,1,-1]])\n",
    "x_data = data[:,:2]\n",
    "y_data = data[:,2:]\n",
    "alpha = np.zeros((1,3))\n",
    "b = 0\n",
    "eta = 0\n",
    "# caculate Gram matrix\n",
    "Gram = np.zeros((3,3))\n",
    "for i,j in np.ndindex(Gram.shape):\n",
    "    Gram[i,j] = x_data[i].dot(x_data[j].transpose())\n",
    "# percepron\n",
    "flag = 0\n",
    "while flag == 0 :\n",
    "    flag = 1\n",
    "    for i,x in enumerate(x_data):\n",
    "        sum = 0\n",
    "        for j in range(np.size(x_data,0)):\n",
    "            sum += alpha[0][j]*y_data[j][0]*Gram[i][j]\n",
    "        if y_data[i][0]*(sum+b)<=0:\n",
    "            flag = 0\n",
    "            alpha[0][i] += 1\n",
    "            b += y_data[i][0]\n",
    "print(alpha,b)"
   ]
  },
  {
   "cell_type": "markdown",
   "metadata": {},
   "source": [
    "$\\therefore \\omega = 2x_1+0x_2-5x_3=(1,1)^T\\ \\ b=-3$  \n",
    "$\\therefore x_1+x_2-3=0$\n"
   ]
  },
  {
   "cell_type": "code",
   "execution_count": null,
   "metadata": {},
   "outputs": [],
   "source": []
  }
 ],
 "metadata": {
  "kernelspec": {
   "display_name": "Python 3",
   "language": "python",
   "name": "python3"
  },
  "language_info": {
   "codemirror_mode": {
    "name": "ipython",
    "version": 3
   },
   "file_extension": ".py",
   "mimetype": "text/x-python",
   "name": "python",
   "nbconvert_exporter": "python",
   "pygments_lexer": "ipython3",
   "version": "3.7.6"
  }
 },
 "nbformat": 4,
 "nbformat_minor": 2
}
