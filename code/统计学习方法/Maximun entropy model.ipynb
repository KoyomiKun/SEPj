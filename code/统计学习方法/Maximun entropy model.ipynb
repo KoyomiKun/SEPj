{
 "cells": [
  {
   "cell_type": "markdown",
   "metadata": {},
   "source": [
    "# GIS算法"
   ]
  },
  {
   "cell_type": "code",
   "execution_count": 126,
   "metadata": {},
   "outputs": [],
   "source": [
    "samples = []\n",
    "Y = set([])\n",
    "numXY = defaultdict(int)\n",
    "filename = 'weather_data.csv'\n",
    "with open(filename,'r') as f:\n",
    "    f = f.readlines()[1:]\n",
    "    for line in f:\n",
    "        if line.index == 1:\n",
    "            continue\n",
    "        sample = line.strip().split(\",\")\n",
    "        if len(sample) < 2:\n",
    "            continue\n",
    "        y = sample[0]\n",
    "        X = sample[1:]\n",
    "        samples.append(sample)\n",
    "        Y.add(y)\n",
    "        for x in set(X):\n",
    "            numXY[(x,y)] += 1"
   ]
  },
  {
   "cell_type": "code",
   "execution_count": 127,
   "metadata": {},
   "outputs": [
    {
     "data": {
      "text/plain": [
       "[['no', 'sunny', 'hot', 'high', 'FALSE'],\n",
       " ['no', 'sunny', 'hot', 'high', 'TRUE'],\n",
       " ['yes', 'overcast', 'hot', 'high', 'FALSE'],\n",
       " ['yes', 'rainy', 'mild', 'high', 'FALSE'],\n",
       " ['yes', 'rainy', 'cool', 'normal', 'FALSE'],\n",
       " ['no', 'rainy', 'cool', 'normal', 'TRUE'],\n",
       " ['yes', 'overcast', 'cool', 'normal', 'TRUE'],\n",
       " ['no', 'sunny', 'mild', 'high', 'FALSE'],\n",
       " ['yes', 'sunny', 'cool', 'normal', 'FALSE'],\n",
       " ['yes', 'rainy', 'mild', 'normal', 'FALSE'],\n",
       " ['yes', 'sunny', 'mild', 'normal', 'TRUE'],\n",
       " ['yes', 'overcast', 'mild', 'high', 'TRUE'],\n",
       " ['yes', 'overcast', 'hot', 'normal', 'FALSE'],\n",
       " ['no', 'rainy', 'mild', 'high', 'TRUE']]"
      ]
     },
     "execution_count": 127,
     "metadata": {},
     "output_type": "execute_result"
    }
   ],
   "source": [
    "samples"
   ]
  },
  {
   "cell_type": "code",
   "execution_count": 128,
   "metadata": {},
   "outputs": [
    {
     "data": {
      "text/plain": [
       "{'no', 'yes'}"
      ]
     },
     "execution_count": 128,
     "metadata": {},
     "output_type": "execute_result"
    }
   ],
   "source": [
    "Y"
   ]
  },
  {
   "cell_type": "code",
   "execution_count": 129,
   "metadata": {},
   "outputs": [
    {
     "data": {
      "text/plain": [
       "defaultdict(int,\n",
       "            {('FALSE', 'no'): 2,\n",
       "             ('high', 'no'): 4,\n",
       "             ('sunny', 'no'): 3,\n",
       "             ('hot', 'no'): 2,\n",
       "             ('TRUE', 'no'): 3,\n",
       "             ('overcast', 'yes'): 4,\n",
       "             ('high', 'yes'): 3,\n",
       "             ('FALSE', 'yes'): 6,\n",
       "             ('hot', 'yes'): 2,\n",
       "             ('mild', 'yes'): 4,\n",
       "             ('rainy', 'yes'): 3,\n",
       "             ('cool', 'yes'): 3,\n",
       "             ('normal', 'yes'): 6,\n",
       "             ('cool', 'no'): 1,\n",
       "             ('normal', 'no'): 1,\n",
       "             ('rainy', 'no'): 2,\n",
       "             ('TRUE', 'yes'): 3,\n",
       "             ('mild', 'no'): 2,\n",
       "             ('sunny', 'yes'): 2})"
      ]
     },
     "execution_count": 129,
     "metadata": {},
     "output_type": "execute_result"
    }
   ],
   "source": [
    "numXY"
   ]
  },
  {
   "cell_type": "code",
   "execution_count": 130,
   "metadata": {},
   "outputs": [
    {
     "data": {
      "text/plain": [
       "14"
      ]
     },
     "execution_count": 130,
     "metadata": {},
     "output_type": "execute_result"
    }
   ],
   "source": [
    "N = len(samples)\n",
    "N"
   ]
  },
  {
   "cell_type": "code",
   "execution_count": 131,
   "metadata": {},
   "outputs": [
    {
     "data": {
      "text/plain": [
       "19"
      ]
     },
     "execution_count": 131,
     "metadata": {},
     "output_type": "execute_result"
    }
   ],
   "source": [
    "n = len(numXY)\n",
    "n"
   ]
  },
  {
   "cell_type": "code",
   "execution_count": 132,
   "metadata": {},
   "outputs": [
    {
     "data": {
      "text/plain": [
       "4"
      ]
     },
     "execution_count": 132,
     "metadata": {},
     "output_type": "execute_result"
    }
   ],
   "source": [
    "C = max([len(sample)-1 for sample in samples])\n",
    "C"
   ]
  },
  {
   "cell_type": "code",
   "execution_count": 147,
   "metadata": {},
   "outputs": [],
   "source": [
    "import numpy as np\n",
    "w = np.zeros(n)\n",
    "w_last = w.copy()"
   ]
  },
  {
   "cell_type": "code",
   "execution_count": 148,
   "metadata": {},
   "outputs": [
    {
     "data": {
      "text/plain": [
       "array([0., 0., 0., 0., 0., 0., 0., 0., 0., 0., 0., 0., 0., 0., 0., 0., 0.,\n",
       "       0., 0.])"
      ]
     },
     "execution_count": 148,
     "metadata": {},
     "output_type": "execute_result"
    }
   ],
   "source": [
    "ep_samples = np.zeros(n)\n",
    "ep_samples"
   ]
  },
  {
   "cell_type": "code",
   "execution_count": 149,
   "metadata": {},
   "outputs": [],
   "source": [
    "xyID = {}\n",
    "for i,xy in enumerate(numXY):\n",
    "    ep_samples[i] = numXY[xy] * 1.0 / N\n",
    "    xyID[xy] = i"
   ]
  },
  {
   "cell_type": "code",
   "execution_count": 150,
   "metadata": {},
   "outputs": [
    {
     "data": {
      "text/plain": [
       "array([0.14285714, 0.28571429, 0.21428571, 0.14285714, 0.21428571,\n",
       "       0.28571429, 0.21428571, 0.42857143, 0.14285714, 0.28571429,\n",
       "       0.21428571, 0.21428571, 0.42857143, 0.07142857, 0.07142857,\n",
       "       0.14285714, 0.21428571, 0.14285714, 0.14285714])"
      ]
     },
     "execution_count": 150,
     "metadata": {},
     "output_type": "execute_result"
    }
   ],
   "source": [
    "ep_samples"
   ]
  },
  {
   "cell_type": "code",
   "execution_count": 151,
   "metadata": {},
   "outputs": [
    {
     "data": {
      "text/plain": [
       "{('FALSE', 'no'): 0,\n",
       " ('high', 'no'): 1,\n",
       " ('sunny', 'no'): 2,\n",
       " ('hot', 'no'): 3,\n",
       " ('TRUE', 'no'): 4,\n",
       " ('overcast', 'yes'): 5,\n",
       " ('high', 'yes'): 6,\n",
       " ('FALSE', 'yes'): 7,\n",
       " ('hot', 'yes'): 8,\n",
       " ('mild', 'yes'): 9,\n",
       " ('rainy', 'yes'): 10,\n",
       " ('cool', 'yes'): 11,\n",
       " ('normal', 'yes'): 12,\n",
       " ('cool', 'no'): 13,\n",
       " ('normal', 'no'): 14,\n",
       " ('rainy', 'no'): 15,\n",
       " ('TRUE', 'yes'): 16,\n",
       " ('mild', 'no'): 17,\n",
       " ('sunny', 'yes'): 18}"
      ]
     },
     "execution_count": 151,
     "metadata": {},
     "output_type": "execute_result"
    }
   ],
   "source": [
    "xyID"
   ]
  },
  {
   "cell_type": "code",
   "execution_count": 157,
   "metadata": {},
   "outputs": [],
   "source": [
    "def zx_func(X):\n",
    "    ZX = 0.0\n",
    "    for y in Y:\n",
    "        sum = 0.0\n",
    "        for x in X:\n",
    "            if(x,y) in numXY:\n",
    "                sum += w[xyID[(x,y)]]\n",
    "        ZX += math.exp(sum)\n",
    "    return ZX"
   ]
  },
  {
   "cell_type": "code",
   "execution_count": 158,
   "metadata": {},
   "outputs": [
    {
     "data": {
      "text/plain": [
       "[2.0, 2.0, 2.0, 2.0, 2.0, 2.0, 2.0, 2.0, 2.0, 2.0, 2.0, 2.0, 2.0, 2.0]"
      ]
     },
     "execution_count": 158,
     "metadata": {},
     "output_type": "execute_result"
    }
   ],
   "source": [
    "[zx_func(sample[1:]) for sample in samples]"
   ]
  },
  {
   "cell_type": "code",
   "execution_count": 159,
   "metadata": {},
   "outputs": [],
   "source": [
    "def p_func(X):\n",
    "    zx = zx_func(X)\n",
    "    result_p = []\n",
    "    for y in Y:\n",
    "        sum = 0.0\n",
    "        for x in X:\n",
    "            if (x,y) in numXY:\n",
    "                sum += w[xyID[(x,y)]]\n",
    "        p = 1.0 / zx * math.exp(sum)\n",
    "        result_p.append((y,p))\n",
    "    return result_p"
   ]
  },
  {
   "cell_type": "code",
   "execution_count": 160,
   "metadata": {},
   "outputs": [
    {
     "data": {
      "text/plain": [
       "[[('no', 0.5), ('yes', 0.5)],\n",
       " [('no', 0.5), ('yes', 0.5)],\n",
       " [('no', 0.5), ('yes', 0.5)],\n",
       " [('no', 0.5), ('yes', 0.5)],\n",
       " [('no', 0.5), ('yes', 0.5)],\n",
       " [('no', 0.5), ('yes', 0.5)],\n",
       " [('no', 0.5), ('yes', 0.5)],\n",
       " [('no', 0.5), ('yes', 0.5)],\n",
       " [('no', 0.5), ('yes', 0.5)],\n",
       " [('no', 0.5), ('yes', 0.5)],\n",
       " [('no', 0.5), ('yes', 0.5)],\n",
       " [('no', 0.5), ('yes', 0.5)],\n",
       " [('no', 0.5), ('yes', 0.5)],\n",
       " [('no', 0.5), ('yes', 0.5)]]"
      ]
     },
     "execution_count": 160,
     "metadata": {},
     "output_type": "execute_result"
    }
   ],
   "source": [
    "[p_func(sample[1:]) for sample in samples]"
   ]
  },
  {
   "cell_type": "code",
   "execution_count": 161,
   "metadata": {},
   "outputs": [],
   "source": [
    "w = np.zeros(n)\n",
    "w_last = w.copy()\n",
    "for i in range(1000):\n",
    "    w_last = w.copy()\n",
    "    ep = np.zeros(n)\n",
    "    for sample in samples:\n",
    "        X = sample[1:]\n",
    "        pyx = p_func(X)\n",
    "        for y,p in pyx:\n",
    "            for x in X:\n",
    "                if (x,y) in numXY:\n",
    "                    ep[xyID[(x,y)]] += p * 1.0 / N\n",
    "    for i,x in enumerate(w):\n",
    "        w[i] += 1.0 / C * math.log(ep_samples[i] / ep[i])\n",
    "    if max([w_last_i-w_i for (w_last_i,w_i) in zip(w_last,w)]) < 0.01:\n",
    "        break"
   ]
  },
  {
   "cell_type": "code",
   "execution_count": 162,
   "metadata": {},
   "outputs": [
    {
     "data": {
      "text/plain": [
       "array([-3.09636514,  1.25174271,  2.80360494,  0.10571373,  1.33438423,\n",
       "        3.9918132 , -1.59514366,  1.13207234, -0.09397029,  1.40543437,\n",
       "       -1.34380257, -0.84370095,  1.3137177 ,  2.783914  , -6.70804184,\n",
       "        2.171492  , -1.2808014 , -2.63112494, -3.85569374])"
      ]
     },
     "execution_count": 162,
     "metadata": {},
     "output_type": "execute_result"
    }
   ],
   "source": [
    "w"
   ]
  },
  {
   "cell_type": "code",
   "execution_count": 166,
   "metadata": {},
   "outputs": [
    {
     "data": {
      "text/plain": [
       "[[('no', 0.9958373481280207), ('yes', 0.0041626518719793)],\n",
       " [('no', 0.00563178976395537), ('yes', 0.9943682102360447)],\n",
       " [('no', 0.9999998553553482), ('yes', 1.4464465173635744e-07)]]"
      ]
     },
     "execution_count": 166,
     "metadata": {},
     "output_type": "execute_result"
    }
   ],
   "source": [
    "predict_strings = [\"sunny,hot,high,FALSE\",\"overcast,hot,high,FALSE\",\"sunny,cool,high,TRUE\"]\n",
    "predict_Xs = [predict_string.split(',') for predict_string in predict_strings]\n",
    "[p_func(X) for X in predict_Xs]"
   ]
  },
  {
   "cell_type": "markdown",
   "metadata": {},
   "source": [
    "# IIS算法"
   ]
  },
  {
   "cell_type": "code",
   "execution_count": null,
   "metadata": {},
   "outputs": [],
   "source": []
  }
 ],
 "metadata": {
  "kernelspec": {
   "display_name": "Python 3",
   "language": "python",
   "name": "python3"
  },
  "language_info": {
   "codemirror_mode": {
    "name": "ipython",
    "version": 3
   },
   "file_extension": ".py",
   "mimetype": "text/x-python",
   "name": "python",
   "nbconvert_exporter": "python",
   "pygments_lexer": "ipython3",
   "version": "3.7.6"
  },
  "toc": {
   "base_numbering": 1,
   "nav_menu": {},
   "number_sections": true,
   "sideBar": true,
   "skip_h1_title": false,
   "title_cell": "Table of Contents",
   "title_sidebar": "Contents",
   "toc_cell": false,
   "toc_position": {
    "height": "calc(100% - 180px)",
    "left": "10px",
    "top": "150px",
    "width": "256px"
   },
   "toc_section_display": true,
   "toc_window_display": false
  }
 },
 "nbformat": 4,
 "nbformat_minor": 2
}
